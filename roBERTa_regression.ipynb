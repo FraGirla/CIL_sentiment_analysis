{
 "cells": [
  {
   "cell_type": "code",
   "execution_count": 1,
   "metadata": {
    "colab": {
     "base_uri": "https://localhost:8080/"
    },
    "id": "qZdD7lPIEU9U",
    "outputId": "750e1d95-fef2-494b-dfab-71dcd9e8cd02"
   },
   "outputs": [
    {
     "name": "stdout",
     "output_type": "stream",
     "text": [
      "Defaulting to user installation because normal site-packages is not writeable\n",
      "Requirement already satisfied: transformers in /cluster/home/fgirlanda/.local/lib/python3.8/site-packages (4.30.1)\n",
      "Requirement already satisfied: regex!=2019.12.17 in /cluster/apps/nss/gcc-6.3.0/python/3.8.5/x86_64/lib64/python3.8/site-packages (from transformers) (2022.7.9)\n",
      "Requirement already satisfied: packaging>=20.0 in /cluster/home/fgirlanda/.local/lib/python3.8/site-packages (from transformers) (23.1)\n",
      "Requirement already satisfied: numpy>=1.17 in /cluster/apps/nss/gcc-6.3.0/python/3.8.5/x86_64/lib64/python3.8/site-packages (from transformers) (1.19.2)\n",
      "Requirement already satisfied: tokenizers!=0.11.3,<0.14,>=0.11.1 in /cluster/home/fgirlanda/.local/lib/python3.8/site-packages (from transformers) (0.13.3)\n",
      "Requirement already satisfied: tqdm>=4.27 in /cluster/home/fgirlanda/.local/lib/python3.8/site-packages (from transformers) (4.65.0)\n",
      "Requirement already satisfied: requests in /cluster/apps/nss/gcc-6.3.0/python/3.8.5/x86_64/lib64/python3.8/site-packages (from transformers) (2.25.1)\n",
      "Requirement already satisfied: filelock in /cluster/apps/nss/gcc-6.3.0/python/3.8.5/x86_64/lib64/python3.8/site-packages (from transformers) (3.8.2)\n",
      "Requirement already satisfied: safetensors>=0.3.1 in /cluster/home/fgirlanda/.local/lib/python3.8/site-packages (from transformers) (0.3.1)\n",
      "Requirement already satisfied: huggingface-hub<1.0,>=0.14.1 in /cluster/home/fgirlanda/.local/lib/python3.8/site-packages (from transformers) (0.15.1)\n",
      "Requirement already satisfied: pyyaml>=5.1 in /cluster/apps/nss/gcc-6.3.0/python/3.8.5/x86_64/lib64/python3.8/site-packages (from transformers) (5.4.1)\n",
      "Requirement already satisfied: typing-extensions>=3.7.4.3 in /cluster/apps/nss/gcc-6.3.0/python/3.8.5/x86_64/lib64/python3.8/site-packages (from huggingface-hub<1.0,>=0.14.1->transformers) (3.7.4.3)\n",
      "Requirement already satisfied: fsspec in /cluster/home/fgirlanda/.local/lib/python3.8/site-packages (from huggingface-hub<1.0,>=0.14.1->transformers) (2023.6.0)\n",
      "Requirement already satisfied: chardet<5,>=3.0.2 in /cluster/apps/nss/gcc-6.3.0/python/3.8.5/x86_64/lib64/python3.8/site-packages (from requests->transformers) (3.0.4)\n",
      "Requirement already satisfied: idna<3,>=2.5 in /cluster/apps/nss/gcc-6.3.0/python/3.8.5/x86_64/lib64/python3.8/site-packages (from requests->transformers) (2.10)\n",
      "Requirement already satisfied: urllib3<1.27,>=1.21.1 in /cluster/apps/nss/gcc-6.3.0/python/3.8.5/x86_64/lib64/python3.8/site-packages (from requests->transformers) (1.26.4)\n",
      "Requirement already satisfied: certifi>=2017.4.17 in /cluster/apps/nss/gcc-6.3.0/python/3.8.5/x86_64/lib64/python3.8/site-packages (from requests->transformers) (2020.6.20)\n",
      "\u001b[33mWARNING: You are using pip version 21.1.3; however, version 23.1.2 is available.\n",
      "You should consider upgrading via the '/cluster/apps/nss/gcc-6.3.0/python/3.8.5/x86_64/bin/python3.8 -m pip install --upgrade pip' command.\u001b[0m\n",
      "Defaulting to user installation because normal site-packages is not writeable\n",
      "Requirement already satisfied: evaluate in /cluster/home/fgirlanda/.local/lib/python3.8/site-packages (0.4.0)\n",
      "Requirement already satisfied: datasets>=2.0.0 in /cluster/home/fgirlanda/.local/lib/python3.8/site-packages (from evaluate) (2.12.0)\n",
      "Requirement already satisfied: packaging in /cluster/home/fgirlanda/.local/lib/python3.8/site-packages (from evaluate) (23.1)\n",
      "Requirement already satisfied: fsspec[http]>=2021.05.0 in /cluster/home/fgirlanda/.local/lib/python3.8/site-packages (from evaluate) (2023.6.0)\n",
      "Requirement already satisfied: dill in /cluster/apps/nss/gcc-6.3.0/python/3.8.5/x86_64/lib64/python3.8/site-packages (from evaluate) (0.3.3)\n",
      "Requirement already satisfied: tqdm>=4.62.1 in /cluster/home/fgirlanda/.local/lib/python3.8/site-packages (from evaluate) (4.65.0)\n",
      "Requirement already satisfied: xxhash in /cluster/apps/nss/gcc-6.3.0/python/3.8.5/x86_64/lib64/python3.8/site-packages (from evaluate) (2.0.0)\n",
      "Requirement already satisfied: requests>=2.19.0 in /cluster/apps/nss/gcc-6.3.0/python/3.8.5/x86_64/lib64/python3.8/site-packages (from evaluate) (2.25.1)\n",
      "Requirement already satisfied: pandas in /cluster/apps/nss/gcc-6.3.0/python/3.8.5/x86_64/lib64/python3.8/site-packages (from evaluate) (1.1.3)\n",
      "Requirement already satisfied: responses<0.19 in /cluster/home/fgirlanda/.local/lib/python3.8/site-packages (from evaluate) (0.18.0)\n",
      "Requirement already satisfied: multiprocess in /cluster/apps/nss/gcc-6.3.0/python/3.8.5/x86_64/lib64/python3.8/site-packages (from evaluate) (0.70.11.1)\n",
      "Requirement already satisfied: huggingface-hub>=0.7.0 in /cluster/home/fgirlanda/.local/lib/python3.8/site-packages (from evaluate) (0.15.1)\n",
      "Requirement already satisfied: numpy>=1.17 in /cluster/apps/nss/gcc-6.3.0/python/3.8.5/x86_64/lib64/python3.8/site-packages (from evaluate) (1.19.2)\n",
      "Requirement already satisfied: pyyaml>=5.1 in /cluster/apps/nss/gcc-6.3.0/python/3.8.5/x86_64/lib64/python3.8/site-packages (from datasets>=2.0.0->evaluate) (5.4.1)\n",
      "Requirement already satisfied: pyarrow>=8.0.0 in /cluster/home/fgirlanda/.local/lib/python3.8/site-packages (from datasets>=2.0.0->evaluate) (12.0.0)\n",
      "Requirement already satisfied: aiohttp in /cluster/apps/nss/gcc-6.3.0/python/3.8.5/x86_64/lib64/python3.8/site-packages (from datasets>=2.0.0->evaluate) (3.7.3)\n",
      "Requirement already satisfied: typing-extensions>=3.6.5 in /cluster/apps/nss/gcc-6.3.0/python/3.8.5/x86_64/lib64/python3.8/site-packages (from aiohttp->datasets>=2.0.0->evaluate) (3.7.4.3)\n",
      "Requirement already satisfied: chardet<4.0,>=2.0 in /cluster/apps/nss/gcc-6.3.0/python/3.8.5/x86_64/lib64/python3.8/site-packages (from aiohttp->datasets>=2.0.0->evaluate) (3.0.4)\n",
      "Requirement already satisfied: multidict<7.0,>=4.5 in /cluster/apps/nss/gcc-6.3.0/python/3.8.5/x86_64/lib64/python3.8/site-packages (from aiohttp->datasets>=2.0.0->evaluate) (5.1.0)\n",
      "Requirement already satisfied: attrs>=17.3.0 in /cluster/apps/nss/gcc-6.3.0/python/3.8.5/x86_64/lib64/python3.8/site-packages (from aiohttp->datasets>=2.0.0->evaluate) (20.2.0)\n",
      "Requirement already satisfied: yarl<2.0,>=1.0 in /cluster/apps/nss/gcc-6.3.0/python/3.8.5/x86_64/lib64/python3.8/site-packages (from aiohttp->datasets>=2.0.0->evaluate) (1.6.3)\n",
      "Requirement already satisfied: async-timeout<4.0,>=3.0 in /cluster/apps/nss/gcc-6.3.0/python/3.8.5/x86_64/lib64/python3.8/site-packages (from aiohttp->datasets>=2.0.0->evaluate) (3.0.1)\n",
      "Requirement already satisfied: filelock in /cluster/apps/nss/gcc-6.3.0/python/3.8.5/x86_64/lib64/python3.8/site-packages (from huggingface-hub>=0.7.0->evaluate) (3.8.2)\n",
      "Requirement already satisfied: idna<3,>=2.5 in /cluster/apps/nss/gcc-6.3.0/python/3.8.5/x86_64/lib64/python3.8/site-packages (from requests>=2.19.0->evaluate) (2.10)\n",
      "Requirement already satisfied: urllib3<1.27,>=1.21.1 in /cluster/apps/nss/gcc-6.3.0/python/3.8.5/x86_64/lib64/python3.8/site-packages (from requests>=2.19.0->evaluate) (1.26.4)\n",
      "Requirement already satisfied: certifi>=2017.4.17 in /cluster/apps/nss/gcc-6.3.0/python/3.8.5/x86_64/lib64/python3.8/site-packages (from requests>=2.19.0->evaluate) (2020.6.20)\n",
      "Requirement already satisfied: pytz>=2017.2 in /cluster/apps/nss/gcc-6.3.0/python/3.8.5/x86_64/lib64/python3.8/site-packages (from pandas->evaluate) (2020.1)\n",
      "Requirement already satisfied: python-dateutil>=2.7.3 in /cluster/apps/nss/gcc-6.3.0/python/3.8.5/x86_64/lib64/python3.8/site-packages (from pandas->evaluate) (2.8.0)\n",
      "Requirement already satisfied: six>=1.5 in /cluster/apps/nss/gcc-6.3.0/python/3.8.5/x86_64/lib64/python3.8/site-packages (from python-dateutil>=2.7.3->pandas->evaluate) (1.15.0)\n",
      "\u001b[33mWARNING: You are using pip version 21.1.3; however, version 23.1.2 is available.\n",
      "You should consider upgrading via the '/cluster/apps/nss/gcc-6.3.0/python/3.8.5/x86_64/bin/python3.8 -m pip install --upgrade pip' command.\u001b[0m\n",
      "Defaulting to user installation because normal site-packages is not writeable\n",
      "Requirement already satisfied: datasets in /cluster/home/fgirlanda/.local/lib/python3.8/site-packages (2.12.0)\n",
      "Requirement already satisfied: pyyaml>=5.1 in /cluster/apps/nss/gcc-6.3.0/python/3.8.5/x86_64/lib64/python3.8/site-packages (from datasets) (5.4.1)\n",
      "Requirement already satisfied: tqdm>=4.62.1 in /cluster/home/fgirlanda/.local/lib/python3.8/site-packages (from datasets) (4.65.0)\n",
      "Requirement already satisfied: xxhash in /cluster/apps/nss/gcc-6.3.0/python/3.8.5/x86_64/lib64/python3.8/site-packages (from datasets) (2.0.0)\n",
      "Requirement already satisfied: aiohttp in /cluster/apps/nss/gcc-6.3.0/python/3.8.5/x86_64/lib64/python3.8/site-packages (from datasets) (3.7.3)\n",
      "Requirement already satisfied: packaging in /cluster/home/fgirlanda/.local/lib/python3.8/site-packages (from datasets) (23.1)\n",
      "Requirement already satisfied: huggingface-hub<1.0.0,>=0.11.0 in /cluster/home/fgirlanda/.local/lib/python3.8/site-packages (from datasets) (0.15.1)\n",
      "Requirement already satisfied: pyarrow>=8.0.0 in /cluster/home/fgirlanda/.local/lib/python3.8/site-packages (from datasets) (12.0.0)\n",
      "Requirement already satisfied: responses<0.19 in /cluster/home/fgirlanda/.local/lib/python3.8/site-packages (from datasets) (0.18.0)\n"
     ]
    },
    {
     "name": "stdout",
     "output_type": "stream",
     "text": [
      "Requirement already satisfied: requests>=2.19.0 in /cluster/apps/nss/gcc-6.3.0/python/3.8.5/x86_64/lib64/python3.8/site-packages (from datasets) (2.25.1)\n",
      "Requirement already satisfied: fsspec[http]>=2021.11.1 in /cluster/home/fgirlanda/.local/lib/python3.8/site-packages (from datasets) (2023.6.0)\n",
      "Requirement already satisfied: multiprocess in /cluster/apps/nss/gcc-6.3.0/python/3.8.5/x86_64/lib64/python3.8/site-packages (from datasets) (0.70.11.1)\n",
      "Requirement already satisfied: dill<0.3.7,>=0.3.0 in /cluster/apps/nss/gcc-6.3.0/python/3.8.5/x86_64/lib64/python3.8/site-packages (from datasets) (0.3.3)\n",
      "Requirement already satisfied: numpy>=1.17 in /cluster/apps/nss/gcc-6.3.0/python/3.8.5/x86_64/lib64/python3.8/site-packages (from datasets) (1.19.2)\n",
      "Requirement already satisfied: pandas in /cluster/apps/nss/gcc-6.3.0/python/3.8.5/x86_64/lib64/python3.8/site-packages (from datasets) (1.1.3)\n",
      "Requirement already satisfied: attrs>=17.3.0 in /cluster/apps/nss/gcc-6.3.0/python/3.8.5/x86_64/lib64/python3.8/site-packages (from aiohttp->datasets) (20.2.0)\n",
      "Requirement already satisfied: chardet<4.0,>=2.0 in /cluster/apps/nss/gcc-6.3.0/python/3.8.5/x86_64/lib64/python3.8/site-packages (from aiohttp->datasets) (3.0.4)\n",
      "Requirement already satisfied: yarl<2.0,>=1.0 in /cluster/apps/nss/gcc-6.3.0/python/3.8.5/x86_64/lib64/python3.8/site-packages (from aiohttp->datasets) (1.6.3)\n",
      "Requirement already satisfied: typing-extensions>=3.6.5 in /cluster/apps/nss/gcc-6.3.0/python/3.8.5/x86_64/lib64/python3.8/site-packages (from aiohttp->datasets) (3.7.4.3)\n",
      "Requirement already satisfied: multidict<7.0,>=4.5 in /cluster/apps/nss/gcc-6.3.0/python/3.8.5/x86_64/lib64/python3.8/site-packages (from aiohttp->datasets) (5.1.0)\n",
      "Requirement already satisfied: async-timeout<4.0,>=3.0 in /cluster/apps/nss/gcc-6.3.0/python/3.8.5/x86_64/lib64/python3.8/site-packages (from aiohttp->datasets) (3.0.1)\n",
      "Requirement already satisfied: filelock in /cluster/apps/nss/gcc-6.3.0/python/3.8.5/x86_64/lib64/python3.8/site-packages (from huggingface-hub<1.0.0,>=0.11.0->datasets) (3.8.2)\n",
      "Requirement already satisfied: idna<3,>=2.5 in /cluster/apps/nss/gcc-6.3.0/python/3.8.5/x86_64/lib64/python3.8/site-packages (from requests>=2.19.0->datasets) (2.10)\n",
      "Requirement already satisfied: urllib3<1.27,>=1.21.1 in /cluster/apps/nss/gcc-6.3.0/python/3.8.5/x86_64/lib64/python3.8/site-packages (from requests>=2.19.0->datasets) (1.26.4)\n",
      "Requirement already satisfied: certifi>=2017.4.17 in /cluster/apps/nss/gcc-6.3.0/python/3.8.5/x86_64/lib64/python3.8/site-packages (from requests>=2.19.0->datasets) (2020.6.20)\n",
      "Requirement already satisfied: python-dateutil>=2.7.3 in /cluster/apps/nss/gcc-6.3.0/python/3.8.5/x86_64/lib64/python3.8/site-packages (from pandas->datasets) (2.8.0)\n",
      "Requirement already satisfied: pytz>=2017.2 in /cluster/apps/nss/gcc-6.3.0/python/3.8.5/x86_64/lib64/python3.8/site-packages (from pandas->datasets) (2020.1)\n",
      "Requirement already satisfied: six>=1.5 in /cluster/apps/nss/gcc-6.3.0/python/3.8.5/x86_64/lib64/python3.8/site-packages (from python-dateutil>=2.7.3->pandas->datasets) (1.15.0)\n",
      "\u001b[33mWARNING: You are using pip version 21.1.3; however, version 23.1.2 is available.\n",
      "You should consider upgrading via the '/cluster/apps/nss/gcc-6.3.0/python/3.8.5/x86_64/bin/python3.8 -m pip install --upgrade pip' command.\u001b[0m\n",
      "Defaulting to user installation because normal site-packages is not writeable\n",
      "Requirement already satisfied: datasets[audio] in /cluster/home/fgirlanda/.local/lib/python3.8/site-packages (2.12.0)\n",
      "Requirement already satisfied: numpy>=1.17 in /cluster/apps/nss/gcc-6.3.0/python/3.8.5/x86_64/lib64/python3.8/site-packages (from datasets[audio]) (1.19.2)\n",
      "Requirement already satisfied: dill<0.3.7,>=0.3.0 in /cluster/apps/nss/gcc-6.3.0/python/3.8.5/x86_64/lib64/python3.8/site-packages (from datasets[audio]) (0.3.3)\n",
      "Requirement already satisfied: tqdm>=4.62.1 in /cluster/home/fgirlanda/.local/lib/python3.8/site-packages (from datasets[audio]) (4.65.0)\n",
      "Requirement already satisfied: fsspec[http]>=2021.11.1 in /cluster/home/fgirlanda/.local/lib/python3.8/site-packages (from datasets[audio]) (2023.6.0)\n",
      "Requirement already satisfied: aiohttp in /cluster/apps/nss/gcc-6.3.0/python/3.8.5/x86_64/lib64/python3.8/site-packages (from datasets[audio]) (3.7.3)\n",
      "Requirement already satisfied: responses<0.19 in /cluster/home/fgirlanda/.local/lib/python3.8/site-packages (from datasets[audio]) (0.18.0)\n",
      "Requirement already satisfied: packaging in /cluster/home/fgirlanda/.local/lib/python3.8/site-packages (from datasets[audio]) (23.1)\n",
      "Requirement already satisfied: pyyaml>=5.1 in /cluster/apps/nss/gcc-6.3.0/python/3.8.5/x86_64/lib64/python3.8/site-packages (from datasets[audio]) (5.4.1)\n",
      "Requirement already satisfied: huggingface-hub<1.0.0,>=0.11.0 in /cluster/home/fgirlanda/.local/lib/python3.8/site-packages (from datasets[audio]) (0.15.1)\n",
      "Requirement already satisfied: xxhash in /cluster/apps/nss/gcc-6.3.0/python/3.8.5/x86_64/lib64/python3.8/site-packages (from datasets[audio]) (2.0.0)\n",
      "Requirement already satisfied: requests>=2.19.0 in /cluster/apps/nss/gcc-6.3.0/python/3.8.5/x86_64/lib64/python3.8/site-packages (from datasets[audio]) (2.25.1)\n",
      "Requirement already satisfied: pyarrow>=8.0.0 in /cluster/home/fgirlanda/.local/lib/python3.8/site-packages (from datasets[audio]) (12.0.0)\n",
      "Requirement already satisfied: pandas in /cluster/apps/nss/gcc-6.3.0/python/3.8.5/x86_64/lib64/python3.8/site-packages (from datasets[audio]) (1.1.3)\n",
      "Requirement already satisfied: multiprocess in /cluster/apps/nss/gcc-6.3.0/python/3.8.5/x86_64/lib64/python3.8/site-packages (from datasets[audio]) (0.70.11.1)\n",
      "Requirement already satisfied: librosa in /cluster/apps/nss/gcc-6.3.0/python/3.8.5/x86_64/lib64/python3.8/site-packages (from datasets[audio]) (0.8.0)\n",
      "Requirement already satisfied: soundfile>=0.12.1 in /cluster/home/fgirlanda/.local/lib/python3.8/site-packages (from datasets[audio]) (0.12.1)\n",
      "Requirement already satisfied: attrs>=17.3.0 in /cluster/apps/nss/gcc-6.3.0/python/3.8.5/x86_64/lib64/python3.8/site-packages (from aiohttp->datasets[audio]) (20.2.0)\n",
      "Requirement already satisfied: chardet<4.0,>=2.0 in /cluster/apps/nss/gcc-6.3.0/python/3.8.5/x86_64/lib64/python3.8/site-packages (from aiohttp->datasets[audio]) (3.0.4)\n",
      "Requirement already satisfied: multidict<7.0,>=4.5 in /cluster/apps/nss/gcc-6.3.0/python/3.8.5/x86_64/lib64/python3.8/site-packages (from aiohttp->datasets[audio]) (5.1.0)\n",
      "Requirement already satisfied: yarl<2.0,>=1.0 in /cluster/apps/nss/gcc-6.3.0/python/3.8.5/x86_64/lib64/python3.8/site-packages (from aiohttp->datasets[audio]) (1.6.3)\n",
      "Requirement already satisfied: async-timeout<4.0,>=3.0 in /cluster/apps/nss/gcc-6.3.0/python/3.8.5/x86_64/lib64/python3.8/site-packages (from aiohttp->datasets[audio]) (3.0.1)\n",
      "Requirement already satisfied: typing-extensions>=3.6.5 in /cluster/apps/nss/gcc-6.3.0/python/3.8.5/x86_64/lib64/python3.8/site-packages (from aiohttp->datasets[audio]) (3.7.4.3)\n",
      "Requirement already satisfied: filelock in /cluster/apps/nss/gcc-6.3.0/python/3.8.5/x86_64/lib64/python3.8/site-packages (from huggingface-hub<1.0.0,>=0.11.0->datasets[audio]) (3.8.2)\n",
      "Requirement already satisfied: idna<3,>=2.5 in /cluster/apps/nss/gcc-6.3.0/python/3.8.5/x86_64/lib64/python3.8/site-packages (from requests>=2.19.0->datasets[audio]) (2.10)\n",
      "Requirement already satisfied: urllib3<1.27,>=1.21.1 in /cluster/apps/nss/gcc-6.3.0/python/3.8.5/x86_64/lib64/python3.8/site-packages (from requests>=2.19.0->datasets[audio]) (1.26.4)\n",
      "Requirement already satisfied: certifi>=2017.4.17 in /cluster/apps/nss/gcc-6.3.0/python/3.8.5/x86_64/lib64/python3.8/site-packages (from requests>=2.19.0->datasets[audio]) (2020.6.20)\n",
      "Requirement already satisfied: cffi>=1.0 in /cluster/apps/nss/gcc-6.3.0/python/3.8.5/x86_64/lib64/python3.8/site-packages (from soundfile>=0.12.1->datasets[audio]) (1.14.3)\n",
      "Requirement already satisfied: pycparser in /cluster/apps/nss/gcc-6.3.0/python/3.8.5/x86_64/lib64/python3.8/site-packages (from cffi>=1.0->soundfile>=0.12.1->datasets[audio]) (2.20)\n",
      "Requirement already satisfied: pooch>=1.0 in /cluster/apps/nss/gcc-6.3.0/python/3.8.5/x86_64/lib64/python3.8/site-packages (from librosa->datasets[audio]) (1.3.0)\n",
      "Requirement already satisfied: audioread>=2.0.0 in /cluster/apps/nss/gcc-6.3.0/python/3.8.5/x86_64/lib64/python3.8/site-packages (from librosa->datasets[audio]) (2.1.9)\n",
      "Requirement already satisfied: numba>=0.43.0 in /cluster/apps/nss/gcc-6.3.0/python/3.8.5/x86_64/lib64/python3.8/site-packages (from librosa->datasets[audio]) (0.52.0)\n",
      "Requirement already satisfied: resampy>=0.2.2 in /cluster/apps/nss/gcc-6.3.0/python/3.8.5/x86_64/lib64/python3.8/site-packages (from librosa->datasets[audio]) (0.2.2)\n",
      "Requirement already satisfied: scipy>=1.0.0 in /cluster/apps/nss/gcc-6.3.0/python/3.8.5/x86_64/lib64/python3.8/site-packages (from librosa->datasets[audio]) (1.6.3)\n",
      "Requirement already satisfied: joblib>=0.14 in /cluster/apps/nss/gcc-6.3.0/python/3.8.5/x86_64/lib64/python3.8/site-packages (from librosa->datasets[audio]) (0.17.0)\n",
      "Requirement already satisfied: decorator>=3.0.0 in /cluster/apps/nss/gcc-6.3.0/python/3.8.5/x86_64/lib64/python3.8/site-packages (from librosa->datasets[audio]) (4.4.2)\n",
      "Requirement already satisfied: scikit-learn!=0.19.0,>=0.14.0 in /cluster/apps/nss/gcc-6.3.0/python/3.8.5/x86_64/lib64/python3.8/site-packages (from librosa->datasets[audio]) (0.23.2)\n",
      "Requirement already satisfied: llvmlite<0.36,>=0.35.0 in /cluster/apps/nss/gcc-6.3.0/python/3.8.5/x86_64/lib64/python3.8/site-packages (from numba>=0.43.0->librosa->datasets[audio]) (0.35.0)\n",
      "Requirement already satisfied: setuptools in /cluster/apps/nss/gcc-6.3.0/python/3.8.5/x86_64/lib64/python3.8/site-packages (from numba>=0.43.0->librosa->datasets[audio]) (67.3.2)\n",
      "Requirement already satisfied: appdirs in /cluster/apps/nss/gcc-6.3.0/python/3.8.5/x86_64/lib64/python3.8/site-packages (from pooch>=1.0->librosa->datasets[audio]) (1.4.4)\n",
      "Requirement already satisfied: six>=1.3 in /cluster/apps/nss/gcc-6.3.0/python/3.8.5/x86_64/lib64/python3.8/site-packages (from resampy>=0.2.2->librosa->datasets[audio]) (1.15.0)\n"
     ]
    },
    {
     "name": "stdout",
     "output_type": "stream",
     "text": [
      "Requirement already satisfied: threadpoolctl>=2.0.0 in /cluster/apps/nss/gcc-6.3.0/python/3.8.5/x86_64/lib64/python3.8/site-packages (from scikit-learn!=0.19.0,>=0.14.0->librosa->datasets[audio]) (2.1.0)\n",
      "Requirement already satisfied: python-dateutil>=2.7.3 in /cluster/apps/nss/gcc-6.3.0/python/3.8.5/x86_64/lib64/python3.8/site-packages (from pandas->datasets[audio]) (2.8.0)\n",
      "Requirement already satisfied: pytz>=2017.2 in /cluster/apps/nss/gcc-6.3.0/python/3.8.5/x86_64/lib64/python3.8/site-packages (from pandas->datasets[audio]) (2020.1)\n",
      "\u001b[33mWARNING: You are using pip version 21.1.3; however, version 23.1.2 is available.\n",
      "You should consider upgrading via the '/cluster/apps/nss/gcc-6.3.0/python/3.8.5/x86_64/bin/python3.8 -m pip install --upgrade pip' command.\u001b[0m\n"
     ]
    }
   ],
   "source": [
    "!pip install transformers\n",
    "!pip install evaluate\n",
    "!pip install datasets\n",
    "!pip install datasets[audio]\n"
   ]
  },
  {
   "cell_type": "code",
   "execution_count": 2,
   "metadata": {},
   "outputs": [
    {
     "name": "stdout",
     "output_type": "stream",
     "text": [
      "\r\n",
      "Due to MODULEPATH changes, the following have been reloaded:\r\n",
      "  1) r/4.0.2\r\n",
      "\r\n",
      "The following have been reloaded with a version change:\r\n",
      "  1) cuda/11.0.3 => cuda/11.3.1        4) nccl/2.7.8-1 => nccl/2.11.4-1\r\n",
      "  2) cudnn/8.0.5 => cudnn/8.2.1.32     5) openblas/0.2.20 => openblas/0.3.15\r\n",
      "  3) gcc/6.3.0 => gcc/8.2.0            6) python_gpu/3.8.5 => python_gpu/3.10.4\r\n",
      "\r\n"
     ]
    }
   ],
   "source": [
    "!module load gcc/8.2.0 python_gpu/3.10.4 r/4.0.2 git-lfs/2.3.0 eth_proxy npm/6.14.9 libsndfile/1.0.23"
   ]
  },
  {
   "cell_type": "code",
   "execution_count": 3,
   "metadata": {
    "id": "GCeg0gweZZ2S"
   },
   "outputs": [],
   "source": [
    "import torch\n",
    "from datasets import load_dataset\n",
    "from datasets import DatasetDict\n",
    "from datasets import Dataset\n",
    "from transformers import AutoModelForSequenceClassification\n",
    "import numpy as np\n",
    "import pandas as pd\n",
    "from transformers import TrainingArguments, Trainer\n",
    "from sklearn.metrics import mean_absolute_error\n",
    "from sklearn.metrics import mean_squared_error\n",
    "from sklearn.metrics import r2_score\n",
    "import numpy as np\n",
    "from sklearn.model_selection import StratifiedKFold\n"
   ]
  },
  {
   "cell_type": "code",
   "execution_count": 5,
   "metadata": {
    "colab": {
     "base_uri": "https://localhost:8080/",
     "height": 86,
     "referenced_widgets": [
      "9a414967f832404e8e5de5591ce80edd",
      "480d3732a3314b699a38562c1bbb1015",
      "3d1de092440a4345811db456d3e438ca",
      "2bfcc448fa014c19871adbb8bfd20d1f",
      "500664f6e9344e3191b1021ce446e44c",
      "ef464420563044dc86e3ca4d9e3919cf",
      "3d3e27519187479294708669b7020b38",
      "bc247b84c124492e9dd2fae1483cf009",
      "4f1395ea2e904443b5e2f4647f453471",
      "08eb57dbbd634c7d8959862746a6bf48",
      "b0e2cd3e822047adb6f1fbd5b6a8774b"
     ]
    },
    "id": "RleN_26IprYM",
    "outputId": "f0211904-342a-4a36-8a00-8ad3a3ba6ba6"
   },
   "outputs": [
    {
     "name": "stdout",
     "output_type": "stream",
     "text": [
      "<class 'pandas.core.frame.DataFrame'>\n",
      "Int64Index: 2499150 entries, 0 to 2499999\n",
      "Data columns (total 6 columns):\n",
      " #   Column                        Dtype \n",
      "---  ------                        ----- \n",
      " 0   tweet                         object\n",
      " 1   label                         int64 \n",
      " 2   clean_tweet                   object\n",
      " 3   tokenized_tweet               object\n",
      " 4   tokenized_tweet_no_stopwords  object\n",
      " 5   text                          object\n",
      "dtypes: int64(1), object(5)\n",
      "memory usage: 133.5+ MB\n",
      "None\n"
     ]
    }
   ],
   "source": [
    "# First make the kfold object\n",
    "folds = StratifiedKFold(n_splits=5)\n",
    "\n",
    "#create dataframes for train and test\n",
    "train_df = pd.read_csv('preprocessed/train_full.csv')\n",
    "#drop nan\n",
    "train_df.dropna(inplace=True)\n",
    "print(train_df.info())\n",
    "folds_datasets = []\n",
    "#get folds\n",
    "for fold_, (train_index, test_index) in enumerate(folds.split(train_df, train_df['label'])):\n",
    "    train_fold = train_df.iloc[train_index]\n",
    "    test_fold = train_df.iloc[test_index]\n",
    "    dataset_fold = DatasetDict({'train': Dataset.from_pandas(train_fold), 'test': Dataset.from_pandas(test_fold)})\n",
    "    folds_datasets.append(dataset_fold)"
   ]
  },
  {
   "cell_type": "code",
   "execution_count": 6,
   "metadata": {},
   "outputs": [],
   "source": [
    "#load dataset from DatasetDict\n",
    "dataset = folds_datasets[0]\n"
   ]
  },
  {
   "cell_type": "code",
   "execution_count": 7,
   "metadata": {
    "colab": {
     "base_uri": "https://localhost:8080/"
    },
    "id": "RRirDbyQBOrf",
    "outputId": "26a21cbe-262b-4b81-b2bb-f9eeed897e93"
   },
   "outputs": [
    {
     "data": {
      "application/vnd.jupyter.widget-view+json": {
       "model_id": "",
       "version_major": 2,
       "version_minor": 0
      },
      "text/plain": [
       "Map:   0%|          | 0/1999320 [00:00<?, ? examples/s]"
      ]
     },
     "metadata": {},
     "output_type": "display_data"
    },
    {
     "data": {
      "application/vnd.jupyter.widget-view+json": {
       "model_id": "",
       "version_major": 2,
       "version_minor": 0
      },
      "text/plain": [
       "Map:   0%|          | 0/499830 [00:00<?, ? examples/s]"
      ]
     },
     "metadata": {},
     "output_type": "display_data"
    }
   ],
   "source": [
    "MAX_LEN=512\n",
    "from transformers import AutoTokenizer\n",
    "\n",
    "hugging_face_model = \"cardiffnlp/twitter-roberta-base-sentiment-latest\"\n",
    "tokenizer = AutoTokenizer.from_pretrained(hugging_face_model)\n",
    "\n",
    "\n",
    "def tokenize_function(examples):\n",
    "    return tokenizer(examples[\"clean_tweet\"], max_length=MAX_LEN, padding='max_length',)\n",
    "\n",
    "def split_label(label):\n",
    "    return [np.array(str(l).split(' '),dtype=float) for l in label]\n",
    "dataset = dataset.map(lambda x: {\"label\": split_label(x[\"label\"])}, batched=True)\n"
   ]
  },
  {
   "cell_type": "code",
   "execution_count": 8,
   "metadata": {},
   "outputs": [
    {
     "data": {
      "application/vnd.jupyter.widget-view+json": {
       "model_id": "",
       "version_major": 2,
       "version_minor": 0
      },
      "text/plain": [
       "Map:   0%|          | 0/1999320 [00:00<?, ? examples/s]"
      ]
     },
     "metadata": {},
     "output_type": "display_data"
    },
    {
     "data": {
      "application/vnd.jupyter.widget-view+json": {
       "model_id": "",
       "version_major": 2,
       "version_minor": 0
      },
      "text/plain": [
       "Map:   0%|          | 0/499830 [00:00<?, ? examples/s]"
      ]
     },
     "metadata": {},
     "output_type": "display_data"
    }
   ],
   "source": [
    "tokenized_datasets = dataset.map(tokenize_function, batched=True)"
   ]
  },
  {
   "cell_type": "code",
   "execution_count": 9,
   "metadata": {
    "colab": {
     "base_uri": "https://localhost:8080/"
    },
    "id": "5jPrUmwXDaoO",
    "outputId": "9754b5b6-2eb6-49cd-ba33-519d9e50159f"
   },
   "outputs": [
    {
     "data": {
      "text/plain": [
       "[0.0]"
      ]
     },
     "execution_count": 9,
     "metadata": {},
     "output_type": "execute_result"
    }
   ],
   "source": [
    "tokenized_datasets['train'][0]['label']"
   ]
  },
  {
   "cell_type": "code",
   "execution_count": 10,
   "metadata": {
    "colab": {
     "base_uri": "https://localhost:8080/"
    },
    "id": "83vQWOWgBTl-",
    "outputId": "28175204-cbda-4957-be48-e8168399cc1a"
   },
   "outputs": [
    {
     "data": {
      "application/vnd.jupyter.widget-view+json": {
       "model_id": "",
       "version_major": 2,
       "version_minor": 0
      },
      "text/plain": [
       "Filter:   0%|          | 0/1999320 [00:00<?, ? examples/s]"
      ]
     },
     "metadata": {},
     "output_type": "display_data"
    },
    {
     "data": {
      "application/vnd.jupyter.widget-view+json": {
       "model_id": "",
       "version_major": 2,
       "version_minor": 0
      },
      "text/plain": [
       "Filter:   0%|          | 0/499830 [00:00<?, ? examples/s]"
      ]
     },
     "metadata": {},
     "output_type": "display_data"
    }
   ],
   "source": [
    "tokenized_datasets=tokenized_datasets.filter(lambda x: len(x[\"input_ids\"])<=180)"
   ]
  },
  {
   "cell_type": "code",
   "execution_count": 11,
   "metadata": {
    "colab": {
     "base_uri": "https://localhost:8080/"
    },
    "id": "aQjGWQQdBWDi",
    "outputId": "698f64f7-c7a9-4570-c9a0-b9ca709e6890"
   },
   "outputs": [
    {
     "data": {
      "text/plain": [
       "DatasetDict({\n",
       "    train: Dataset({\n",
       "        features: ['tweet', 'label', 'clean_tweet', 'tokenized_tweet', 'tokenized_tweet_no_stopwords', 'text', '__index_level_0__', 'input_ids', 'attention_mask'],\n",
       "        num_rows: 1999320\n",
       "    })\n",
       "    test: Dataset({\n",
       "        features: ['tweet', 'label', 'clean_tweet', 'tokenized_tweet', 'tokenized_tweet_no_stopwords', 'text', '__index_level_0__', 'input_ids', 'attention_mask'],\n",
       "        num_rows: 499830\n",
       "    })\n",
       "})"
      ]
     },
     "execution_count": 11,
     "metadata": {},
     "output_type": "execute_result"
    }
   ],
   "source": [
    "tokenized_datasets"
   ]
  },
  {
   "cell_type": "code",
   "execution_count": 12,
   "metadata": {
    "colab": {
     "base_uri": "https://localhost:8080/"
    },
    "id": "LhNnN9xJBX__",
    "outputId": "0b11b34f-528b-4fed-ffaa-61624819dac6"
   },
   "outputs": [],
   "source": [
    "tokenized_datasets[\"train\"] = tokenized_datasets[\"train\"].shuffle(seed=42)\n",
    "#tokenized_datasets[\"validation\"] = tokenized_datasets[\"validation\"].shuffle(seed=42)\n",
    "tokenized_datasets[\"test\"] = tokenized_datasets[\"test\"].shuffle(seed=42)"
   ]
  },
  {
   "cell_type": "code",
   "execution_count": 13,
   "metadata": {
    "colab": {
     "base_uri": "https://localhost:8080/"
    },
    "id": "VapOTp7zDaoS",
    "outputId": "52f31c8b-1c49-4b9b-d154-8dbd727d7d94"
   },
   "outputs": [
    {
     "data": {
      "text/plain": [
       "DatasetDict({\n",
       "    train: Dataset({\n",
       "        features: ['tweet', 'label', 'clean_tweet', 'tokenized_tweet', 'tokenized_tweet_no_stopwords', 'text', '__index_level_0__', 'input_ids', 'attention_mask'],\n",
       "        num_rows: 1999320\n",
       "    })\n",
       "    test: Dataset({\n",
       "        features: ['tweet', 'label', 'clean_tweet', 'tokenized_tweet', 'tokenized_tweet_no_stopwords', 'text', '__index_level_0__', 'input_ids', 'attention_mask'],\n",
       "        num_rows: 499830\n",
       "    })\n",
       "})"
      ]
     },
     "execution_count": 13,
     "metadata": {},
     "output_type": "execute_result"
    }
   ],
   "source": [
    "tokenized_datasets"
   ]
  },
  {
   "cell_type": "code",
   "execution_count": 14,
   "metadata": {
    "id": "EfESFX0eDaoT"
   },
   "outputs": [],
   "source": [
    "from transformers import DataCollatorWithPadding\n",
    "\n",
    "tokenized_datasets.set_format('torch', columns=[\"input_ids\", \"attention_mask\", \"label\"] )\n",
    "\n",
    "data_collator = DataCollatorWithPadding(tokenizer=tokenizer)"
   ]
  },
  {
   "cell_type": "code",
   "execution_count": 15,
   "metadata": {
    "id": "6t3dD-PvDaoU"
   },
   "outputs": [],
   "source": [
    "import torch.nn as nn\n",
    "from transformers import AutoModel,AutoConfig\n",
    "from transformers.modeling_outputs import TokenClassifierOutput\n",
    "class CustomModel(nn.Module):\n",
    "    def __init__(self, checkpoint, num_labels ):\n",
    "        super(CustomModel, self).__init__()\n",
    "        self.num_labels = num_labels\n",
    "        \n",
    "        self.model = AutoModel.from_pretrained(checkpoint, config = AutoConfig.from_pretrained(checkpoint, output_hidden_state = True ) )\n",
    "        self.dropout = nn.Dropout(0.1)\n",
    "        self.classifier = nn.Linear(768, num_labels )\n",
    "        \n",
    "    def forward(self, input_ids = None, attention_mask=None, labels = None ):\n",
    "        outputs = self.model(input_ids = input_ids, attention_mask = attention_mask  )\n",
    "        \n",
    "        last_hidden_state = outputs[0]\n",
    "        sequence_outputs = self.dropout(last_hidden_state)\n",
    "        \n",
    "        logits = self.classifier(sequence_outputs[:, 0, : ].view(-1, 768 ))\n",
    "        logits = torch.sigmoid(logits)\n",
    "        loss = None\n",
    "        if labels is not None:\n",
    "            loss = torch.nn.functional.binary_cross_entropy(logits, labels)\n",
    "            return TokenClassifierOutput(loss=loss, logits=logits, hidden_states=last_hidden_state)"
   ]
  },
  {
   "cell_type": "code",
   "execution_count": 16,
   "metadata": {
    "id": "0ZeiRDO_DaoW"
   },
   "outputs": [],
   "source": [
    "from torch.utils.data import DataLoader\n",
    "\n",
    "BATCH_SIZE = 32 \n",
    "train_dataloader = DataLoader(\n",
    "    tokenized_datasets['train'], shuffle = True, batch_size = BATCH_SIZE, collate_fn = data_collator\n",
    ")\n",
    "\n",
    "#eval_dataloader = DataLoader(\n",
    "#    tokenized_datasets['validation'], shuffle = True, batch_size = BATCH_SIZE, collate_fn = data_collator\n",
    "#)\n",
    "\n",
    "test_dataloader = DataLoader(\n",
    "    tokenized_datasets['test'], batch_size = 32, collate_fn = data_collator\n",
    ")"
   ]
  },
  {
   "cell_type": "code",
   "execution_count": 17,
   "metadata": {
    "colab": {
     "base_uri": "https://localhost:8080/"
    },
    "id": "Bz9RiMivDaoW",
    "outputId": "6aaff266-bca3-4479-8b9b-f3dfc0660b7e"
   },
   "outputs": [
    {
     "name": "stderr",
     "output_type": "stream",
     "text": [
      "Some weights of the model checkpoint at cardiffnlp/twitter-roberta-base-sentiment-latest were not used when initializing RobertaModel: ['classifier.dense.bias', 'classifier.dense.weight', 'classifier.out_proj.weight', 'classifier.out_proj.bias']\n",
      "- This IS expected if you are initializing RobertaModel from the checkpoint of a model trained on another task or with another architecture (e.g. initializing a BertForSequenceClassification model from a BertForPreTraining model).\n",
      "- This IS NOT expected if you are initializing RobertaModel from the checkpoint of a model that you expect to be exactly identical (initializing a BertForSequenceClassification model from a BertForSequenceClassification model).\n"
     ]
    }
   ],
   "source": [
    "device = torch.device(\"cuda\" if torch.cuda.is_available() else \"cpu\")\n",
    "torch.cuda.empty_cache()\n",
    "\n",
    "model = CustomModel(checkpoint=hugging_face_model, num_labels=1).to(device)\n",
    "\n"
   ]
  },
  {
   "cell_type": "code",
   "execution_count": 18,
   "metadata": {},
   "outputs": [
    {
     "data": {
      "text/plain": [
       "'NVIDIA GeForce RTX 2080 Ti'"
      ]
     },
     "execution_count": 18,
     "metadata": {},
     "output_type": "execute_result"
    }
   ],
   "source": [
    "torch.cuda.get_device_name(device)"
   ]
  },
  {
   "cell_type": "code",
   "execution_count": 19,
   "metadata": {
    "colab": {
     "base_uri": "https://localhost:8080/"
    },
    "id": "59JKwxtwgTqc",
    "outputId": "8c01b4e8-7ad2-4c9b-aae8-cd98f23c6889"
   },
   "outputs": [
    {
     "name": "stdout",
     "output_type": "stream",
     "text": [
      "model.pooler.dense.weight\n",
      "model.pooler.dense.bias\n",
      "classifier.weight\n",
      "classifier.bias\n"
     ]
    }
   ],
   "source": [
    "for name, param in model.named_parameters():\n",
    "  if \"encoder.layer.0\"  in name:\n",
    "    param.requires_grad=True\n",
    "  elif \"encoder.layer.1.\"  in name:\n",
    "    param.requires_grad=True\n",
    "  elif \"encoder.layer.2\"  in name:\n",
    "    param.requires_grad=True\n",
    "  elif \"encoder.layer.3\"  in name:\n",
    "    param.requires_grad=True\n",
    "  elif \"encoder.layer.4\"  in name:\n",
    "    param.requires_grad=True\n",
    "  elif \"encoder.layer.5\"  in name:\n",
    "    param.requires_grad=True\n",
    "  elif \"encoder.layer.6\"  in name:\n",
    "    param.requires_grad=True\n",
    "  elif \"encoder.layer.7\"  in name:\n",
    "    param.requires_grad=True\n",
    "  elif \"encoder.layer.8\"  in name:\n",
    "    param.requires_grad=True\n",
    "  elif \"encoder.layer.9\"  in name:\n",
    "    param.requires_grad=True\n",
    "  elif \"encoder.layer.10\"  in name:\n",
    "    param.requires_grad=True\n",
    "  elif \"encoder.layer.11\"  in name:\n",
    "    param.requires_grad=True\n",
    "  elif \"embeddings\"  in name:\n",
    "    param.requires_grad=True\n",
    "  else:\n",
    "    print(name)"
   ]
  },
  {
   "cell_type": "code",
   "execution_count": 20,
   "metadata": {
    "id": "5nH8-KYiDaoX"
   },
   "outputs": [
    {
     "name": "stderr",
     "output_type": "stream",
     "text": [
      "/cluster/home/fgirlanda/.local/lib/python3.8/site-packages/transformers/optimization.py:411: FutureWarning: This implementation of AdamW is deprecated and will be removed in a future version. Use the PyTorch implementation torch.optim.AdamW instead, or set `no_deprecation_warning=True` to disable this warning\n",
      "  warnings.warn(\n"
     ]
    }
   ],
   "source": [
    "from transformers import AdamW, get_scheduler\n",
    "\n",
    "optimizer = AdamW(model.parameters(), lr = 5e-5 )\n",
    "\n",
    "num_epoch = 1\n",
    "\n",
    "num_training_steps = num_epoch * len(train_dataloader)\n",
    "\n",
    "lr_scheduler = get_scheduler(\n",
    "    'linear',\n",
    "    optimizer = optimizer,\n",
    "    num_warmup_steps=0,\n",
    "    num_training_steps = num_training_steps,\n",
    "    \n",
    ")"
   ]
  },
  {
   "cell_type": "code",
   "execution_count": 22,
   "metadata": {
    "colab": {
     "base_uri": "https://localhost:8080/",
     "height": 86,
     "referenced_widgets": [
      "f0fcb96f7d10421f966eee149af4c058",
      "2297bc0a786043c5b13af19f2f5c2dbe",
      "e3ffe7828409444baf7cfe9a73d947fe",
      "149003243d44419eb14a2eaed890ec92",
      "a0dd4295817c42469388f043846c675e",
      "df4fdf94e290498eaf835b60f2e48be3",
      "d48d164126034336baa04a4cdf87e580",
      "0058e3dde3064b9195edaadebd7253ad",
      "0c222723bfd6464ca03d68d2c6ff5aba",
      "435c5fa827184009962b46444c765f41",
      "048d1ef79470477798deb28b721d89fc"
     ]
    },
    "id": "IEeoKEkkDaoX",
    "outputId": "bd615b26-a4da-4479-e0d0-ab58bc25e086"
   },
   "outputs": [
    {
     "data": {
      "application/vnd.jupyter.widget-view+json": {
       "model_id": "256f717c403d4a279f9cfabd3208cb5c",
       "version_major": 2,
       "version_minor": 0
      },
      "text/plain": [
       "  0%|          | 0/62479 [00:00<?, ?it/s]"
      ]
     },
     "metadata": {},
     "output_type": "display_data"
    },
    {
     "name": "stderr",
     "output_type": "stream",
     "text": [
      "You're using a RobertaTokenizerFast tokenizer. Please note that with a fast tokenizer, using the `__call__` method is faster than using a method to encode the text followed by a call to the `pad` method to get a padded encoding.\n"
     ]
    }
   ],
   "source": [
    "from tqdm.auto import tqdm\n",
    "\n",
    "progress_bar_train = tqdm(range(num_training_steps))\n",
    "\n",
    "for epoch in range(num_epoch):\n",
    "    model.train()\n",
    "    for batch in train_dataloader:\n",
    "        batch = { k: v.to(device) for k, v in batch.items() }\n",
    "        outputs = model(**batch)\n",
    "        loss = outputs.loss\n",
    "        loss.backward()\n",
    "        \n",
    "        optimizer.step()\n",
    "        lr_scheduler.step()\n",
    "        optimizer.zero_grad()\n",
    "        progress_bar_train.update(1)"
   ]
  },
  {
   "cell_type": "code",
   "execution_count": 23,
   "metadata": {
    "colab": {
     "base_uri": "https://localhost:8080/",
     "height": 66,
     "referenced_widgets": [
      "e8e8751b9c144473b658327c10c06740",
      "888d6e83ec794b6084ee1f368b192255",
      "3520e88e3dc1451493fc44ebcee82f1d",
      "8152231a9912407f9d30b032168a0c4a",
      "7b87ac2aeb93428caa7a223341ff1218",
      "238e26e22fdd43919a7f13ef798cdb6b",
      "24f4c3db601740b0963e9c2c2d36ea36",
      "5edf27ac75ad41598e84ab2417c6c38f",
      "d42d27a28b584b4dbbbe86c19d5ad8da",
      "ecb2d3ef759e43f2b83e4327044692db",
      "5c3f359927b742839b16d1142a7df13f"
     ]
    },
    "id": "tuotyf5TITdk",
    "outputId": "3e0e22ca-b724-4e16-c175-769facd6a1db"
   },
   "outputs": [
    {
     "data": {
      "application/vnd.jupyter.widget-view+json": {
       "model_id": "3f713bcd504a4f5cbac377961e5f1ed5",
       "version_major": 2,
       "version_minor": 0
      },
      "text/plain": [
       "  0%|          | 0/15620 [00:00<?, ?it/s]"
      ]
     },
     "metadata": {},
     "output_type": "display_data"
    },
    {
     "name": "stdout",
     "output_type": "stream",
     "text": [
      "TEST ACC:  0.5000260088430066\n",
      "TEST BCE:  tensor(0.7389, device='cuda:0')\n"
     ]
    }
   ],
   "source": [
    "threshold = 0.5\n",
    "correct_predictions = 0\n",
    "total_predictions = 0\n",
    "\n",
    "model.eval()\n",
    "progress_bar_test = tqdm(range(num_epoch * len(test_dataloader) ))\n",
    "\n",
    "metric_count = 0\n",
    "for batch in test_dataloader:\n",
    "    batch = { k: v.to(device) for k, v in batch.items() }\n",
    "    with torch.no_grad():\n",
    "        outputs = model(**batch)\n",
    "        \n",
    "    logits = outputs.logits\n",
    "    metric_count += torch.nn.functional.binary_cross_entropy(logits, batch['labels'])\n",
    "    \n",
    "    predictions = (logits >= threshold).int()  \n",
    "    correct_predictions += (predictions == batch['labels']).sum().item()\n",
    "    total_predictions += len(batch['labels'])\n",
    "\n",
    "    progress_bar_test.update(1)\n",
    "print(\"TEST ACC: \", correct_predictions / total_predictions)\n",
    "print(\"TEST BCE: \", metric_count / len(test_dataloader))"
   ]
  },
  {
   "cell_type": "code",
   "execution_count": 25,
   "metadata": {
    "id": "JuwUl8rXbFje"
   },
   "outputs": [],
   "source": [
    "torch.save(model.state_dict(), \"roBERTa_12_layers_with_emb_light_pre\")"
   ]
  }
 ],
 "metadata": {
  "accelerator": "GPU",
  "colab": {
   "gpuType": "V100",
   "machine_shape": "hm",
   "provenance": []
  },
  "gpuClass": "standard",
  "kernelspec": {
   "display_name": "Python 3",
   "language": "python",
   "name": "python3"
  },
  "language_info": {
   "codemirror_mode": {
    "name": "ipython",
    "version": 3
   },
   "file_extension": ".py",
   "mimetype": "text/x-python",
   "name": "python",
   "nbconvert_exporter": "python",
   "pygments_lexer": "ipython3",
   "version": "3.8.5"
  },
  "widgets": {
   "application/vnd.jupyter.widget-state+json": {
    "0058e3dde3064b9195edaadebd7253ad": {
     "model_module": "@jupyter-widgets/base",
     "model_module_version": "1.2.0",
     "model_name": "LayoutModel",
     "state": {
      "_model_module": "@jupyter-widgets/base",
      "_model_module_version": "1.2.0",
      "_model_name": "LayoutModel",
      "_view_count": null,
      "_view_module": "@jupyter-widgets/base",
      "_view_module_version": "1.2.0",
      "_view_name": "LayoutView",
      "align_content": null,
      "align_items": null,
      "align_self": null,
      "border": null,
      "bottom": null,
      "display": null,
      "flex": null,
      "flex_flow": null,
      "grid_area": null,
      "grid_auto_columns": null,
      "grid_auto_flow": null,
      "grid_auto_rows": null,
      "grid_column": null,
      "grid_gap": null,
      "grid_row": null,
      "grid_template_areas": null,
      "grid_template_columns": null,
      "grid_template_rows": null,
      "height": null,
      "justify_content": null,
      "justify_items": null,
      "left": null,
      "margin": null,
      "max_height": null,
      "max_width": null,
      "min_height": null,
      "min_width": null,
      "object_fit": null,
      "object_position": null,
      "order": null,
      "overflow": null,
      "overflow_x": null,
      "overflow_y": null,
      "padding": null,
      "right": null,
      "top": null,
      "visibility": null,
      "width": null
     }
    },
    "048d1ef79470477798deb28b721d89fc": {
     "model_module": "@jupyter-widgets/controls",
     "model_module_version": "1.5.0",
     "model_name": "DescriptionStyleModel",
     "state": {
      "_model_module": "@jupyter-widgets/controls",
      "_model_module_version": "1.5.0",
      "_model_name": "DescriptionStyleModel",
      "_view_count": null,
      "_view_module": "@jupyter-widgets/base",
      "_view_module_version": "1.2.0",
      "_view_name": "StyleView",
      "description_width": ""
     }
    },
    "08eb57dbbd634c7d8959862746a6bf48": {
     "model_module": "@jupyter-widgets/base",
     "model_module_version": "1.2.0",
     "model_name": "LayoutModel",
     "state": {
      "_model_module": "@jupyter-widgets/base",
      "_model_module_version": "1.2.0",
      "_model_name": "LayoutModel",
      "_view_count": null,
      "_view_module": "@jupyter-widgets/base",
      "_view_module_version": "1.2.0",
      "_view_name": "LayoutView",
      "align_content": null,
      "align_items": null,
      "align_self": null,
      "border": null,
      "bottom": null,
      "display": null,
      "flex": null,
      "flex_flow": null,
      "grid_area": null,
      "grid_auto_columns": null,
      "grid_auto_flow": null,
      "grid_auto_rows": null,
      "grid_column": null,
      "grid_gap": null,
      "grid_row": null,
      "grid_template_areas": null,
      "grid_template_columns": null,
      "grid_template_rows": null,
      "height": null,
      "justify_content": null,
      "justify_items": null,
      "left": null,
      "margin": null,
      "max_height": null,
      "max_width": null,
      "min_height": null,
      "min_width": null,
      "object_fit": null,
      "object_position": null,
      "order": null,
      "overflow": null,
      "overflow_x": null,
      "overflow_y": null,
      "padding": null,
      "right": null,
      "top": null,
      "visibility": null,
      "width": null
     }
    },
    "0c222723bfd6464ca03d68d2c6ff5aba": {
     "model_module": "@jupyter-widgets/controls",
     "model_module_version": "1.5.0",
     "model_name": "ProgressStyleModel",
     "state": {
      "_model_module": "@jupyter-widgets/controls",
      "_model_module_version": "1.5.0",
      "_model_name": "ProgressStyleModel",
      "_view_count": null,
      "_view_module": "@jupyter-widgets/base",
      "_view_module_version": "1.2.0",
      "_view_name": "StyleView",
      "bar_color": null,
      "description_width": ""
     }
    },
    "149003243d44419eb14a2eaed890ec92": {
     "model_module": "@jupyter-widgets/controls",
     "model_module_version": "1.5.0",
     "model_name": "HTMLModel",
     "state": {
      "_dom_classes": [],
      "_model_module": "@jupyter-widgets/controls",
      "_model_module_version": "1.5.0",
      "_model_name": "HTMLModel",
      "_view_count": null,
      "_view_module": "@jupyter-widgets/controls",
      "_view_module_version": "1.5.0",
      "_view_name": "HTMLView",
      "description": "",
      "description_tooltip": null,
      "layout": "IPY_MODEL_435c5fa827184009962b46444c765f41",
      "placeholder": "​",
      "style": "IPY_MODEL_048d1ef79470477798deb28b721d89fc",
      "value": " 4688/4688 [07:28&lt;00:00, 10.76it/s]"
     }
    },
    "2297bc0a786043c5b13af19f2f5c2dbe": {
     "model_module": "@jupyter-widgets/controls",
     "model_module_version": "1.5.0",
     "model_name": "HTMLModel",
     "state": {
      "_dom_classes": [],
      "_model_module": "@jupyter-widgets/controls",
      "_model_module_version": "1.5.0",
      "_model_name": "HTMLModel",
      "_view_count": null,
      "_view_module": "@jupyter-widgets/controls",
      "_view_module_version": "1.5.0",
      "_view_name": "HTMLView",
      "description": "",
      "description_tooltip": null,
      "layout": "IPY_MODEL_df4fdf94e290498eaf835b60f2e48be3",
      "placeholder": "​",
      "style": "IPY_MODEL_d48d164126034336baa04a4cdf87e580",
      "value": "100%"
     }
    },
    "238e26e22fdd43919a7f13ef798cdb6b": {
     "model_module": "@jupyter-widgets/base",
     "model_module_version": "1.2.0",
     "model_name": "LayoutModel",
     "state": {
      "_model_module": "@jupyter-widgets/base",
      "_model_module_version": "1.2.0",
      "_model_name": "LayoutModel",
      "_view_count": null,
      "_view_module": "@jupyter-widgets/base",
      "_view_module_version": "1.2.0",
      "_view_name": "LayoutView",
      "align_content": null,
      "align_items": null,
      "align_self": null,
      "border": null,
      "bottom": null,
      "display": null,
      "flex": null,
      "flex_flow": null,
      "grid_area": null,
      "grid_auto_columns": null,
      "grid_auto_flow": null,
      "grid_auto_rows": null,
      "grid_column": null,
      "grid_gap": null,
      "grid_row": null,
      "grid_template_areas": null,
      "grid_template_columns": null,
      "grid_template_rows": null,
      "height": null,
      "justify_content": null,
      "justify_items": null,
      "left": null,
      "margin": null,
      "max_height": null,
      "max_width": null,
      "min_height": null,
      "min_width": null,
      "object_fit": null,
      "object_position": null,
      "order": null,
      "overflow": null,
      "overflow_x": null,
      "overflow_y": null,
      "padding": null,
      "right": null,
      "top": null,
      "visibility": null,
      "width": null
     }
    },
    "24f4c3db601740b0963e9c2c2d36ea36": {
     "model_module": "@jupyter-widgets/controls",
     "model_module_version": "1.5.0",
     "model_name": "DescriptionStyleModel",
     "state": {
      "_model_module": "@jupyter-widgets/controls",
      "_model_module_version": "1.5.0",
      "_model_name": "DescriptionStyleModel",
      "_view_count": null,
      "_view_module": "@jupyter-widgets/base",
      "_view_module_version": "1.2.0",
      "_view_name": "StyleView",
      "description_width": ""
     }
    },
    "2bfcc448fa014c19871adbb8bfd20d1f": {
     "model_module": "@jupyter-widgets/controls",
     "model_module_version": "1.5.0",
     "model_name": "HTMLModel",
     "state": {
      "_dom_classes": [],
      "_model_module": "@jupyter-widgets/controls",
      "_model_module_version": "1.5.0",
      "_model_name": "HTMLModel",
      "_view_count": null,
      "_view_module": "@jupyter-widgets/controls",
      "_view_module_version": "1.5.0",
      "_view_name": "HTMLView",
      "description": "",
      "description_tooltip": null,
      "layout": "IPY_MODEL_08eb57dbbd634c7d8959862746a6bf48",
      "placeholder": "​",
      "style": "IPY_MODEL_b0e2cd3e822047adb6f1fbd5b6a8774b",
      "value": " 3/3 [00:00&lt;00:00, 120.59it/s]"
     }
    },
    "3520e88e3dc1451493fc44ebcee82f1d": {
     "model_module": "@jupyter-widgets/controls",
     "model_module_version": "1.5.0",
     "model_name": "FloatProgressModel",
     "state": {
      "_dom_classes": [],
      "_model_module": "@jupyter-widgets/controls",
      "_model_module_version": "1.5.0",
      "_model_name": "FloatProgressModel",
      "_view_count": null,
      "_view_module": "@jupyter-widgets/controls",
      "_view_module_version": "1.5.0",
      "_view_name": "ProgressView",
      "bar_style": "",
      "description": "",
      "description_tooltip": null,
      "layout": "IPY_MODEL_5edf27ac75ad41598e84ab2417c6c38f",
      "max": 383,
      "min": 0,
      "orientation": "horizontal",
      "style": "IPY_MODEL_d42d27a28b584b4dbbbe86c19d5ad8da",
      "value": 382
     }
    },
    "3d1de092440a4345811db456d3e438ca": {
     "model_module": "@jupyter-widgets/controls",
     "model_module_version": "1.5.0",
     "model_name": "FloatProgressModel",
     "state": {
      "_dom_classes": [],
      "_model_module": "@jupyter-widgets/controls",
      "_model_module_version": "1.5.0",
      "_model_name": "FloatProgressModel",
      "_view_count": null,
      "_view_module": "@jupyter-widgets/controls",
      "_view_module_version": "1.5.0",
      "_view_name": "ProgressView",
      "bar_style": "success",
      "description": "",
      "description_tooltip": null,
      "layout": "IPY_MODEL_bc247b84c124492e9dd2fae1483cf009",
      "max": 3,
      "min": 0,
      "orientation": "horizontal",
      "style": "IPY_MODEL_4f1395ea2e904443b5e2f4647f453471",
      "value": 3
     }
    },
    "3d3e27519187479294708669b7020b38": {
     "model_module": "@jupyter-widgets/controls",
     "model_module_version": "1.5.0",
     "model_name": "DescriptionStyleModel",
     "state": {
      "_model_module": "@jupyter-widgets/controls",
      "_model_module_version": "1.5.0",
      "_model_name": "DescriptionStyleModel",
      "_view_count": null,
      "_view_module": "@jupyter-widgets/base",
      "_view_module_version": "1.2.0",
      "_view_name": "StyleView",
      "description_width": ""
     }
    },
    "435c5fa827184009962b46444c765f41": {
     "model_module": "@jupyter-widgets/base",
     "model_module_version": "1.2.0",
     "model_name": "LayoutModel",
     "state": {
      "_model_module": "@jupyter-widgets/base",
      "_model_module_version": "1.2.0",
      "_model_name": "LayoutModel",
      "_view_count": null,
      "_view_module": "@jupyter-widgets/base",
      "_view_module_version": "1.2.0",
      "_view_name": "LayoutView",
      "align_content": null,
      "align_items": null,
      "align_self": null,
      "border": null,
      "bottom": null,
      "display": null,
      "flex": null,
      "flex_flow": null,
      "grid_area": null,
      "grid_auto_columns": null,
      "grid_auto_flow": null,
      "grid_auto_rows": null,
      "grid_column": null,
      "grid_gap": null,
      "grid_row": null,
      "grid_template_areas": null,
      "grid_template_columns": null,
      "grid_template_rows": null,
      "height": null,
      "justify_content": null,
      "justify_items": null,
      "left": null,
      "margin": null,
      "max_height": null,
      "max_width": null,
      "min_height": null,
      "min_width": null,
      "object_fit": null,
      "object_position": null,
      "order": null,
      "overflow": null,
      "overflow_x": null,
      "overflow_y": null,
      "padding": null,
      "right": null,
      "top": null,
      "visibility": null,
      "width": null
     }
    },
    "480d3732a3314b699a38562c1bbb1015": {
     "model_module": "@jupyter-widgets/controls",
     "model_module_version": "1.5.0",
     "model_name": "HTMLModel",
     "state": {
      "_dom_classes": [],
      "_model_module": "@jupyter-widgets/controls",
      "_model_module_version": "1.5.0",
      "_model_name": "HTMLModel",
      "_view_count": null,
      "_view_module": "@jupyter-widgets/controls",
      "_view_module_version": "1.5.0",
      "_view_name": "HTMLView",
      "description": "",
      "description_tooltip": null,
      "layout": "IPY_MODEL_ef464420563044dc86e3ca4d9e3919cf",
      "placeholder": "​",
      "style": "IPY_MODEL_3d3e27519187479294708669b7020b38",
      "value": "100%"
     }
    },
    "4f1395ea2e904443b5e2f4647f453471": {
     "model_module": "@jupyter-widgets/controls",
     "model_module_version": "1.5.0",
     "model_name": "ProgressStyleModel",
     "state": {
      "_model_module": "@jupyter-widgets/controls",
      "_model_module_version": "1.5.0",
      "_model_name": "ProgressStyleModel",
      "_view_count": null,
      "_view_module": "@jupyter-widgets/base",
      "_view_module_version": "1.2.0",
      "_view_name": "StyleView",
      "bar_color": null,
      "description_width": ""
     }
    },
    "500664f6e9344e3191b1021ce446e44c": {
     "model_module": "@jupyter-widgets/base",
     "model_module_version": "1.2.0",
     "model_name": "LayoutModel",
     "state": {
      "_model_module": "@jupyter-widgets/base",
      "_model_module_version": "1.2.0",
      "_model_name": "LayoutModel",
      "_view_count": null,
      "_view_module": "@jupyter-widgets/base",
      "_view_module_version": "1.2.0",
      "_view_name": "LayoutView",
      "align_content": null,
      "align_items": null,
      "align_self": null,
      "border": null,
      "bottom": null,
      "display": null,
      "flex": null,
      "flex_flow": null,
      "grid_area": null,
      "grid_auto_columns": null,
      "grid_auto_flow": null,
      "grid_auto_rows": null,
      "grid_column": null,
      "grid_gap": null,
      "grid_row": null,
      "grid_template_areas": null,
      "grid_template_columns": null,
      "grid_template_rows": null,
      "height": null,
      "justify_content": null,
      "justify_items": null,
      "left": null,
      "margin": null,
      "max_height": null,
      "max_width": null,
      "min_height": null,
      "min_width": null,
      "object_fit": null,
      "object_position": null,
      "order": null,
      "overflow": null,
      "overflow_x": null,
      "overflow_y": null,
      "padding": null,
      "right": null,
      "top": null,
      "visibility": null,
      "width": null
     }
    },
    "5c3f359927b742839b16d1142a7df13f": {
     "model_module": "@jupyter-widgets/controls",
     "model_module_version": "1.5.0",
     "model_name": "DescriptionStyleModel",
     "state": {
      "_model_module": "@jupyter-widgets/controls",
      "_model_module_version": "1.5.0",
      "_model_name": "DescriptionStyleModel",
      "_view_count": null,
      "_view_module": "@jupyter-widgets/base",
      "_view_module_version": "1.2.0",
      "_view_name": "StyleView",
      "description_width": ""
     }
    },
    "5edf27ac75ad41598e84ab2417c6c38f": {
     "model_module": "@jupyter-widgets/base",
     "model_module_version": "1.2.0",
     "model_name": "LayoutModel",
     "state": {
      "_model_module": "@jupyter-widgets/base",
      "_model_module_version": "1.2.0",
      "_model_name": "LayoutModel",
      "_view_count": null,
      "_view_module": "@jupyter-widgets/base",
      "_view_module_version": "1.2.0",
      "_view_name": "LayoutView",
      "align_content": null,
      "align_items": null,
      "align_self": null,
      "border": null,
      "bottom": null,
      "display": null,
      "flex": null,
      "flex_flow": null,
      "grid_area": null,
      "grid_auto_columns": null,
      "grid_auto_flow": null,
      "grid_auto_rows": null,
      "grid_column": null,
      "grid_gap": null,
      "grid_row": null,
      "grid_template_areas": null,
      "grid_template_columns": null,
      "grid_template_rows": null,
      "height": null,
      "justify_content": null,
      "justify_items": null,
      "left": null,
      "margin": null,
      "max_height": null,
      "max_width": null,
      "min_height": null,
      "min_width": null,
      "object_fit": null,
      "object_position": null,
      "order": null,
      "overflow": null,
      "overflow_x": null,
      "overflow_y": null,
      "padding": null,
      "right": null,
      "top": null,
      "visibility": null,
      "width": null
     }
    },
    "7b87ac2aeb93428caa7a223341ff1218": {
     "model_module": "@jupyter-widgets/base",
     "model_module_version": "1.2.0",
     "model_name": "LayoutModel",
     "state": {
      "_model_module": "@jupyter-widgets/base",
      "_model_module_version": "1.2.0",
      "_model_name": "LayoutModel",
      "_view_count": null,
      "_view_module": "@jupyter-widgets/base",
      "_view_module_version": "1.2.0",
      "_view_name": "LayoutView",
      "align_content": null,
      "align_items": null,
      "align_self": null,
      "border": null,
      "bottom": null,
      "display": null,
      "flex": null,
      "flex_flow": null,
      "grid_area": null,
      "grid_auto_columns": null,
      "grid_auto_flow": null,
      "grid_auto_rows": null,
      "grid_column": null,
      "grid_gap": null,
      "grid_row": null,
      "grid_template_areas": null,
      "grid_template_columns": null,
      "grid_template_rows": null,
      "height": null,
      "justify_content": null,
      "justify_items": null,
      "left": null,
      "margin": null,
      "max_height": null,
      "max_width": null,
      "min_height": null,
      "min_width": null,
      "object_fit": null,
      "object_position": null,
      "order": null,
      "overflow": null,
      "overflow_x": null,
      "overflow_y": null,
      "padding": null,
      "right": null,
      "top": null,
      "visibility": null,
      "width": null
     }
    },
    "8152231a9912407f9d30b032168a0c4a": {
     "model_module": "@jupyter-widgets/controls",
     "model_module_version": "1.5.0",
     "model_name": "HTMLModel",
     "state": {
      "_dom_classes": [],
      "_model_module": "@jupyter-widgets/controls",
      "_model_module_version": "1.5.0",
      "_model_name": "HTMLModel",
      "_view_count": null,
      "_view_module": "@jupyter-widgets/controls",
      "_view_module_version": "1.5.0",
      "_view_name": "HTMLView",
      "description": "",
      "description_tooltip": null,
      "layout": "IPY_MODEL_ecb2d3ef759e43f2b83e4327044692db",
      "placeholder": "​",
      "style": "IPY_MODEL_5c3f359927b742839b16d1142a7df13f",
      "value": " 382/383 [00:33&lt;00:00, 11.46it/s]"
     }
    },
    "888d6e83ec794b6084ee1f368b192255": {
     "model_module": "@jupyter-widgets/controls",
     "model_module_version": "1.5.0",
     "model_name": "HTMLModel",
     "state": {
      "_dom_classes": [],
      "_model_module": "@jupyter-widgets/controls",
      "_model_module_version": "1.5.0",
      "_model_name": "HTMLModel",
      "_view_count": null,
      "_view_module": "@jupyter-widgets/controls",
      "_view_module_version": "1.5.0",
      "_view_name": "HTMLView",
      "description": "",
      "description_tooltip": null,
      "layout": "IPY_MODEL_238e26e22fdd43919a7f13ef798cdb6b",
      "placeholder": "​",
      "style": "IPY_MODEL_24f4c3db601740b0963e9c2c2d36ea36",
      "value": "100%"
     }
    },
    "9a414967f832404e8e5de5591ce80edd": {
     "model_module": "@jupyter-widgets/controls",
     "model_module_version": "1.5.0",
     "model_name": "HBoxModel",
     "state": {
      "_dom_classes": [],
      "_model_module": "@jupyter-widgets/controls",
      "_model_module_version": "1.5.0",
      "_model_name": "HBoxModel",
      "_view_count": null,
      "_view_module": "@jupyter-widgets/controls",
      "_view_module_version": "1.5.0",
      "_view_name": "HBoxView",
      "box_style": "",
      "children": [
       "IPY_MODEL_480d3732a3314b699a38562c1bbb1015",
       "IPY_MODEL_3d1de092440a4345811db456d3e438ca",
       "IPY_MODEL_2bfcc448fa014c19871adbb8bfd20d1f"
      ],
      "layout": "IPY_MODEL_500664f6e9344e3191b1021ce446e44c"
     }
    },
    "a0dd4295817c42469388f043846c675e": {
     "model_module": "@jupyter-widgets/base",
     "model_module_version": "1.2.0",
     "model_name": "LayoutModel",
     "state": {
      "_model_module": "@jupyter-widgets/base",
      "_model_module_version": "1.2.0",
      "_model_name": "LayoutModel",
      "_view_count": null,
      "_view_module": "@jupyter-widgets/base",
      "_view_module_version": "1.2.0",
      "_view_name": "LayoutView",
      "align_content": null,
      "align_items": null,
      "align_self": null,
      "border": null,
      "bottom": null,
      "display": null,
      "flex": null,
      "flex_flow": null,
      "grid_area": null,
      "grid_auto_columns": null,
      "grid_auto_flow": null,
      "grid_auto_rows": null,
      "grid_column": null,
      "grid_gap": null,
      "grid_row": null,
      "grid_template_areas": null,
      "grid_template_columns": null,
      "grid_template_rows": null,
      "height": null,
      "justify_content": null,
      "justify_items": null,
      "left": null,
      "margin": null,
      "max_height": null,
      "max_width": null,
      "min_height": null,
      "min_width": null,
      "object_fit": null,
      "object_position": null,
      "order": null,
      "overflow": null,
      "overflow_x": null,
      "overflow_y": null,
      "padding": null,
      "right": null,
      "top": null,
      "visibility": null,
      "width": null
     }
    },
    "b0e2cd3e822047adb6f1fbd5b6a8774b": {
     "model_module": "@jupyter-widgets/controls",
     "model_module_version": "1.5.0",
     "model_name": "DescriptionStyleModel",
     "state": {
      "_model_module": "@jupyter-widgets/controls",
      "_model_module_version": "1.5.0",
      "_model_name": "DescriptionStyleModel",
      "_view_count": null,
      "_view_module": "@jupyter-widgets/base",
      "_view_module_version": "1.2.0",
      "_view_name": "StyleView",
      "description_width": ""
     }
    },
    "bc247b84c124492e9dd2fae1483cf009": {
     "model_module": "@jupyter-widgets/base",
     "model_module_version": "1.2.0",
     "model_name": "LayoutModel",
     "state": {
      "_model_module": "@jupyter-widgets/base",
      "_model_module_version": "1.2.0",
      "_model_name": "LayoutModel",
      "_view_count": null,
      "_view_module": "@jupyter-widgets/base",
      "_view_module_version": "1.2.0",
      "_view_name": "LayoutView",
      "align_content": null,
      "align_items": null,
      "align_self": null,
      "border": null,
      "bottom": null,
      "display": null,
      "flex": null,
      "flex_flow": null,
      "grid_area": null,
      "grid_auto_columns": null,
      "grid_auto_flow": null,
      "grid_auto_rows": null,
      "grid_column": null,
      "grid_gap": null,
      "grid_row": null,
      "grid_template_areas": null,
      "grid_template_columns": null,
      "grid_template_rows": null,
      "height": null,
      "justify_content": null,
      "justify_items": null,
      "left": null,
      "margin": null,
      "max_height": null,
      "max_width": null,
      "min_height": null,
      "min_width": null,
      "object_fit": null,
      "object_position": null,
      "order": null,
      "overflow": null,
      "overflow_x": null,
      "overflow_y": null,
      "padding": null,
      "right": null,
      "top": null,
      "visibility": null,
      "width": null
     }
    },
    "d42d27a28b584b4dbbbe86c19d5ad8da": {
     "model_module": "@jupyter-widgets/controls",
     "model_module_version": "1.5.0",
     "model_name": "ProgressStyleModel",
     "state": {
      "_model_module": "@jupyter-widgets/controls",
      "_model_module_version": "1.5.0",
      "_model_name": "ProgressStyleModel",
      "_view_count": null,
      "_view_module": "@jupyter-widgets/base",
      "_view_module_version": "1.2.0",
      "_view_name": "StyleView",
      "bar_color": null,
      "description_width": ""
     }
    },
    "d48d164126034336baa04a4cdf87e580": {
     "model_module": "@jupyter-widgets/controls",
     "model_module_version": "1.5.0",
     "model_name": "DescriptionStyleModel",
     "state": {
      "_model_module": "@jupyter-widgets/controls",
      "_model_module_version": "1.5.0",
      "_model_name": "DescriptionStyleModel",
      "_view_count": null,
      "_view_module": "@jupyter-widgets/base",
      "_view_module_version": "1.2.0",
      "_view_name": "StyleView",
      "description_width": ""
     }
    },
    "df4fdf94e290498eaf835b60f2e48be3": {
     "model_module": "@jupyter-widgets/base",
     "model_module_version": "1.2.0",
     "model_name": "LayoutModel",
     "state": {
      "_model_module": "@jupyter-widgets/base",
      "_model_module_version": "1.2.0",
      "_model_name": "LayoutModel",
      "_view_count": null,
      "_view_module": "@jupyter-widgets/base",
      "_view_module_version": "1.2.0",
      "_view_name": "LayoutView",
      "align_content": null,
      "align_items": null,
      "align_self": null,
      "border": null,
      "bottom": null,
      "display": null,
      "flex": null,
      "flex_flow": null,
      "grid_area": null,
      "grid_auto_columns": null,
      "grid_auto_flow": null,
      "grid_auto_rows": null,
      "grid_column": null,
      "grid_gap": null,
      "grid_row": null,
      "grid_template_areas": null,
      "grid_template_columns": null,
      "grid_template_rows": null,
      "height": null,
      "justify_content": null,
      "justify_items": null,
      "left": null,
      "margin": null,
      "max_height": null,
      "max_width": null,
      "min_height": null,
      "min_width": null,
      "object_fit": null,
      "object_position": null,
      "order": null,
      "overflow": null,
      "overflow_x": null,
      "overflow_y": null,
      "padding": null,
      "right": null,
      "top": null,
      "visibility": null,
      "width": null
     }
    },
    "e3ffe7828409444baf7cfe9a73d947fe": {
     "model_module": "@jupyter-widgets/controls",
     "model_module_version": "1.5.0",
     "model_name": "FloatProgressModel",
     "state": {
      "_dom_classes": [],
      "_model_module": "@jupyter-widgets/controls",
      "_model_module_version": "1.5.0",
      "_model_name": "FloatProgressModel",
      "_view_count": null,
      "_view_module": "@jupyter-widgets/controls",
      "_view_module_version": "1.5.0",
      "_view_name": "ProgressView",
      "bar_style": "",
      "description": "",
      "description_tooltip": null,
      "layout": "IPY_MODEL_0058e3dde3064b9195edaadebd7253ad",
      "max": 4688,
      "min": 0,
      "orientation": "horizontal",
      "style": "IPY_MODEL_0c222723bfd6464ca03d68d2c6ff5aba",
      "value": 4688
     }
    },
    "e8e8751b9c144473b658327c10c06740": {
     "model_module": "@jupyter-widgets/controls",
     "model_module_version": "1.5.0",
     "model_name": "HBoxModel",
     "state": {
      "_dom_classes": [],
      "_model_module": "@jupyter-widgets/controls",
      "_model_module_version": "1.5.0",
      "_model_name": "HBoxModel",
      "_view_count": null,
      "_view_module": "@jupyter-widgets/controls",
      "_view_module_version": "1.5.0",
      "_view_name": "HBoxView",
      "box_style": "",
      "children": [
       "IPY_MODEL_888d6e83ec794b6084ee1f368b192255",
       "IPY_MODEL_3520e88e3dc1451493fc44ebcee82f1d",
       "IPY_MODEL_8152231a9912407f9d30b032168a0c4a"
      ],
      "layout": "IPY_MODEL_7b87ac2aeb93428caa7a223341ff1218"
     }
    },
    "ecb2d3ef759e43f2b83e4327044692db": {
     "model_module": "@jupyter-widgets/base",
     "model_module_version": "1.2.0",
     "model_name": "LayoutModel",
     "state": {
      "_model_module": "@jupyter-widgets/base",
      "_model_module_version": "1.2.0",
      "_model_name": "LayoutModel",
      "_view_count": null,
      "_view_module": "@jupyter-widgets/base",
      "_view_module_version": "1.2.0",
      "_view_name": "LayoutView",
      "align_content": null,
      "align_items": null,
      "align_self": null,
      "border": null,
      "bottom": null,
      "display": null,
      "flex": null,
      "flex_flow": null,
      "grid_area": null,
      "grid_auto_columns": null,
      "grid_auto_flow": null,
      "grid_auto_rows": null,
      "grid_column": null,
      "grid_gap": null,
      "grid_row": null,
      "grid_template_areas": null,
      "grid_template_columns": null,
      "grid_template_rows": null,
      "height": null,
      "justify_content": null,
      "justify_items": null,
      "left": null,
      "margin": null,
      "max_height": null,
      "max_width": null,
      "min_height": null,
      "min_width": null,
      "object_fit": null,
      "object_position": null,
      "order": null,
      "overflow": null,
      "overflow_x": null,
      "overflow_y": null,
      "padding": null,
      "right": null,
      "top": null,
      "visibility": null,
      "width": null
     }
    },
    "ef464420563044dc86e3ca4d9e3919cf": {
     "model_module": "@jupyter-widgets/base",
     "model_module_version": "1.2.0",
     "model_name": "LayoutModel",
     "state": {
      "_model_module": "@jupyter-widgets/base",
      "_model_module_version": "1.2.0",
      "_model_name": "LayoutModel",
      "_view_count": null,
      "_view_module": "@jupyter-widgets/base",
      "_view_module_version": "1.2.0",
      "_view_name": "LayoutView",
      "align_content": null,
      "align_items": null,
      "align_self": null,
      "border": null,
      "bottom": null,
      "display": null,
      "flex": null,
      "flex_flow": null,
      "grid_area": null,
      "grid_auto_columns": null,
      "grid_auto_flow": null,
      "grid_auto_rows": null,
      "grid_column": null,
      "grid_gap": null,
      "grid_row": null,
      "grid_template_areas": null,
      "grid_template_columns": null,
      "grid_template_rows": null,
      "height": null,
      "justify_content": null,
      "justify_items": null,
      "left": null,
      "margin": null,
      "max_height": null,
      "max_width": null,
      "min_height": null,
      "min_width": null,
      "object_fit": null,
      "object_position": null,
      "order": null,
      "overflow": null,
      "overflow_x": null,
      "overflow_y": null,
      "padding": null,
      "right": null,
      "top": null,
      "visibility": null,
      "width": null
     }
    },
    "f0fcb96f7d10421f966eee149af4c058": {
     "model_module": "@jupyter-widgets/controls",
     "model_module_version": "1.5.0",
     "model_name": "HBoxModel",
     "state": {
      "_dom_classes": [],
      "_model_module": "@jupyter-widgets/controls",
      "_model_module_version": "1.5.0",
      "_model_name": "HBoxModel",
      "_view_count": null,
      "_view_module": "@jupyter-widgets/controls",
      "_view_module_version": "1.5.0",
      "_view_name": "HBoxView",
      "box_style": "",
      "children": [
       "IPY_MODEL_2297bc0a786043c5b13af19f2f5c2dbe",
       "IPY_MODEL_e3ffe7828409444baf7cfe9a73d947fe",
       "IPY_MODEL_149003243d44419eb14a2eaed890ec92"
      ],
      "layout": "IPY_MODEL_a0dd4295817c42469388f043846c675e"
     }
    }
   }
  }
 },
 "nbformat": 4,
 "nbformat_minor": 1
}
