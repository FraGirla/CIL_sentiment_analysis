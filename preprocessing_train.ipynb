{
 "cells": [
  {
   "cell_type": "code",
   "execution_count": 1,
   "metadata": {},
   "outputs": [],
   "source": [
    "import numpy as np\n",
    "import pandas as pd\n",
    "import re\n",
    "from string import punctuation                   # to extract the puntuation symbols\n",
    "\n",
    "from nltk.tokenize import word_tokenize          # to divide strings into tokens\n",
    "from nltk.stem import WordNetLemmatizer          # to lemmatize the tokens\n",
    "from nltk.corpus import stopwords                # to remove the stopwords \n",
    "#import pos tagger\n",
    "from nltk import pos_tag"
   ]
  },
  {
   "cell_type": "code",
   "execution_count": 2,
   "metadata": {},
   "outputs": [
    {
     "name": "stdout",
     "output_type": "stream",
     "text": [
      "2500000 tweets loaded\n"
     ]
    }
   ],
   "source": [
    "tweets = []\n",
    "labels = []\n",
    "\n",
    "def load_tweets(filename, label):\n",
    "    with open(filename, 'r', encoding='utf-8') as f:\n",
    "        for line in f:\n",
    "            tweets.append(line.rstrip())\n",
    "            labels.append(label)\n",
    "load_tweets('twitter-datasets/train_neg_full.txt', 0)\n",
    "load_tweets('twitter-datasets/train_pos_full.txt', 1)\n",
    "\n",
    "# Convert to NumPy array to facilitate indexing\n",
    "tweets = np.array(tweets)\n",
    "labels = np.array(labels)\n",
    "\n",
    "print(f'{len(tweets)} tweets loaded')"
   ]
  },
  {
   "cell_type": "code",
   "execution_count": 3,
   "metadata": {},
   "outputs": [],
   "source": [
    "tweets_df = pd.DataFrame({'tweet': tweets, 'label': labels})"
   ]
  },
  {
   "cell_type": "code",
   "execution_count": 4,
   "metadata": {},
   "outputs": [
    {
     "data": {
      "text/html": [
       "<div>\n",
       "<style scoped>\n",
       "    .dataframe tbody tr th:only-of-type {\n",
       "        vertical-align: middle;\n",
       "    }\n",
       "\n",
       "    .dataframe tbody tr th {\n",
       "        vertical-align: top;\n",
       "    }\n",
       "\n",
       "    .dataframe thead th {\n",
       "        text-align: right;\n",
       "    }\n",
       "</style>\n",
       "<table border=\"1\" class=\"dataframe\">\n",
       "  <thead>\n",
       "    <tr style=\"text-align: right;\">\n",
       "      <th></th>\n",
       "      <th>tweet</th>\n",
       "      <th>label</th>\n",
       "    </tr>\n",
       "  </thead>\n",
       "  <tbody>\n",
       "    <tr>\n",
       "      <th>0</th>\n",
       "      <td>vinco tresorpack 6 ( difficulty 10 of 10 objec...</td>\n",
       "      <td>0</td>\n",
       "    </tr>\n",
       "    <tr>\n",
       "      <th>1</th>\n",
       "      <td>glad i dot have taks tomorrow ! ! #thankful #s...</td>\n",
       "      <td>0</td>\n",
       "    </tr>\n",
       "    <tr>\n",
       "      <th>2</th>\n",
       "      <td>1-3 vs celtics in the regular season = were fu...</td>\n",
       "      <td>0</td>\n",
       "    </tr>\n",
       "    <tr>\n",
       "      <th>3</th>\n",
       "      <td>&lt;user&gt; i could actually kill that girl i'm so ...</td>\n",
       "      <td>0</td>\n",
       "    </tr>\n",
       "    <tr>\n",
       "      <th>4</th>\n",
       "      <td>&lt;user&gt; &lt;user&gt; &lt;user&gt; i find that very hard to ...</td>\n",
       "      <td>0</td>\n",
       "    </tr>\n",
       "  </tbody>\n",
       "</table>\n",
       "</div>"
      ],
      "text/plain": [
       "                                               tweet  label\n",
       "0  vinco tresorpack 6 ( difficulty 10 of 10 objec...      0\n",
       "1  glad i dot have taks tomorrow ! ! #thankful #s...      0\n",
       "2  1-3 vs celtics in the regular season = were fu...      0\n",
       "3  <user> i could actually kill that girl i'm so ...      0\n",
       "4  <user> <user> <user> i find that very hard to ...      0"
      ]
     },
     "execution_count": 4,
     "metadata": {},
     "output_type": "execute_result"
    }
   ],
   "source": [
    "tweets_df.head()"
   ]
  },
  {
   "cell_type": "code",
   "execution_count": 5,
   "metadata": {},
   "outputs": [],
   "source": [
    "def remove_stopwords(text):\n",
    "    words = [w for w in text if w not in stopwords.words('english')]\n",
    "    return words \n",
    "\n",
    "def clean_text(text):\n",
    "    '''Make text lowercase, remove links,remove punctuation\n",
    "    and remove words containing numbers.'''\n",
    "    text = text.lower()\n",
    "    text = re.sub(r'<url>', '', text)\n",
    "    #text = re.sub(r'<user>', '', text)\n",
    "    #text = re.sub('[%s]' % re.escape(punctuation), '', text)\n",
    "    text = re.sub('\\n', '', text)\n",
    "    text = re.sub('\\w*\\d\\w*', '', text)\n",
    "    return text\n",
    "\n",
    "def remove_punctuation(text):\n",
    "    '''Make text lowercase, remove links,remove punctuation\n",
    "    and remove words containing numbers.'''\n",
    "    text = re.sub('[%s]' % re.escape(punctuation), '', text)\n",
    "    return text\n",
    "\n",
    "tweets_df['partial_clean_tweet'] = tweets_df['tweet'].apply(lambda x: clean_text(x))\n"
   ]
  },
  {
   "cell_type": "code",
   "execution_count": 6,
   "metadata": {},
   "outputs": [],
   "source": [
    "tweets_df['clean_tweet'] = tweets_df['partial_clean_tweet'].apply(lambda x: remove_punctuation(x))"
   ]
  },
  {
   "cell_type": "code",
   "execution_count": 7,
   "metadata": {},
   "outputs": [],
   "source": [
    "tweets_df['tokenized_tweet'] = tweets_df['clean_tweet'].apply(lambda x: word_tokenize(x))\n",
    "tweets_df['tokenized_tweet_no_stopwords'] = tweets_df['tokenized_tweet'].apply(lambda x: remove_stopwords(x))"
   ]
  },
  {
   "cell_type": "code",
   "execution_count": 8,
   "metadata": {},
   "outputs": [],
   "source": [
    "#lemmatize with pos tag\n",
    "def lemmatize_with_pos_tag(tokenized_text):\n",
    "    lemmatizer = WordNetLemmatizer()\n",
    "    pos_tagged_text = pos_tag(tokenized_text)\n",
    "    lemmatized_tokens = [lemmatizer.lemmatize(token, pos=tag[0].lower()) if tag[0].lower() in ['a','n','v'] else lemmatizer.lemmatize(token) for token, tag in pos_tagged_text]\n",
    "    return lemmatized_tokens\n",
    "tweets_df['clean_tweet_tokenized_lemmatized'] = tweets_df['tokenized_tweet_no_stopwords'].apply(lambda x: lemmatize_with_pos_tag(x))"
   ]
  },
  {
   "cell_type": "code",
   "execution_count": 9,
   "metadata": {},
   "outputs": [],
   "source": [
    "drop_columns = ['tweet', 'clean_tweet', 'tokenized_tweet']\n",
    "#tweets_df = tweets_df.drop(drop_columns, axis=1)"
   ]
  },
  {
   "cell_type": "code",
   "execution_count": 10,
   "metadata": {},
   "outputs": [],
   "source": [
    "#convert the list of tokens into a string\n",
    "tweets_df['clean_tweet_tokenized_lemmatized'] = tweets_df['clean_tweet_tokenized_lemmatized'].apply(lambda x: ' '.join(x))\n",
    "tweets_df['tokenized_tweet'] = tweets_df['tokenized_tweet'].apply(lambda x: ' '.join(x))\n",
    "tweets_df['tokenized_tweet_no_stopwords'] = tweets_df['tokenized_tweet_no_stopwords'].apply(lambda x: ' '.join(x))\n"
   ]
  },
  {
   "cell_type": "code",
   "execution_count": 11,
   "metadata": {},
   "outputs": [
    {
     "data": {
      "text/html": [
       "<div>\n",
       "<style scoped>\n",
       "    .dataframe tbody tr th:only-of-type {\n",
       "        vertical-align: middle;\n",
       "    }\n",
       "\n",
       "    .dataframe tbody tr th {\n",
       "        vertical-align: top;\n",
       "    }\n",
       "\n",
       "    .dataframe thead th {\n",
       "        text-align: right;\n",
       "    }\n",
       "</style>\n",
       "<table border=\"1\" class=\"dataframe\">\n",
       "  <thead>\n",
       "    <tr style=\"text-align: right;\">\n",
       "      <th></th>\n",
       "      <th>tweet</th>\n",
       "      <th>label</th>\n",
       "      <th>partial_clean_tweet</th>\n",
       "      <th>clean_tweet</th>\n",
       "      <th>tokenized_tweet</th>\n",
       "      <th>tokenized_tweet_no_stopwords</th>\n",
       "      <th>clean_tweet_tokenized_lemmatized</th>\n",
       "    </tr>\n",
       "  </thead>\n",
       "  <tbody>\n",
       "    <tr>\n",
       "      <th>0</th>\n",
       "      <td>vinco tresorpack 6 ( difficulty 10 of 10 objec...</td>\n",
       "      <td>0</td>\n",
       "      <td>vinco tresorpack  ( difficulty  of  object : d...</td>\n",
       "      <td>vinco tresorpack   difficulty  of  object  dis...</td>\n",
       "      <td>vinco tresorpack difficulty of object disassem...</td>\n",
       "      <td>vinco tresorpack difficulty object disassemble...</td>\n",
       "      <td>vinco tresorpack difficulty object disassemble...</td>\n",
       "    </tr>\n",
       "    <tr>\n",
       "      <th>1</th>\n",
       "      <td>glad i dot have taks tomorrow ! ! #thankful #s...</td>\n",
       "      <td>0</td>\n",
       "      <td>glad i dot have taks tomorrow ! ! #thankful #s...</td>\n",
       "      <td>glad i dot have taks tomorrow   thankful startho</td>\n",
       "      <td>glad i dot have taks tomorrow thankful startho</td>\n",
       "      <td>glad dot taks tomorrow thankful startho</td>\n",
       "      <td>glad dot taks tomorrow thankful startho</td>\n",
       "    </tr>\n",
       "    <tr>\n",
       "      <th>2</th>\n",
       "      <td>1-3 vs celtics in the regular season = were fu...</td>\n",
       "      <td>0</td>\n",
       "      <td>- vs celtics in the regular season = were fuck...</td>\n",
       "      <td>vs celtics in the regular season  were fucked...</td>\n",
       "      <td>vs celtics in the regular season were fucked i...</td>\n",
       "      <td>vs celtics regular season fucked play playoffs</td>\n",
       "      <td>v celtic regular season fuck play playoff</td>\n",
       "    </tr>\n",
       "    <tr>\n",
       "      <th>3</th>\n",
       "      <td>&lt;user&gt; i could actually kill that girl i'm so ...</td>\n",
       "      <td>0</td>\n",
       "      <td>&lt;user&gt; i could actually kill that girl i'm so ...</td>\n",
       "      <td>user i could actually kill that girl im so sor...</td>\n",
       "      <td>user i could actually kill that girl im so sorry</td>\n",
       "      <td>user could actually kill girl im sorry</td>\n",
       "      <td>user could actually kill girl im sorry</td>\n",
       "    </tr>\n",
       "    <tr>\n",
       "      <th>4</th>\n",
       "      <td>&lt;user&gt; &lt;user&gt; &lt;user&gt; i find that very hard to ...</td>\n",
       "      <td>0</td>\n",
       "      <td>&lt;user&gt; &lt;user&gt; &lt;user&gt; i find that very hard to ...</td>\n",
       "      <td>user user user i find that very hard to believ...</td>\n",
       "      <td>user user user i find that very hard to believ...</td>\n",
       "      <td>user user user find hard believe im afraid</td>\n",
       "      <td>user user user find hard believe im afraid</td>\n",
       "    </tr>\n",
       "  </tbody>\n",
       "</table>\n",
       "</div>"
      ],
      "text/plain": [
       "                                               tweet  label  \\\n",
       "0  vinco tresorpack 6 ( difficulty 10 of 10 objec...      0   \n",
       "1  glad i dot have taks tomorrow ! ! #thankful #s...      0   \n",
       "2  1-3 vs celtics in the regular season = were fu...      0   \n",
       "3  <user> i could actually kill that girl i'm so ...      0   \n",
       "4  <user> <user> <user> i find that very hard to ...      0   \n",
       "\n",
       "                                 partial_clean_tweet  \\\n",
       "0  vinco tresorpack  ( difficulty  of  object : d...   \n",
       "1  glad i dot have taks tomorrow ! ! #thankful #s...   \n",
       "2  - vs celtics in the regular season = were fuck...   \n",
       "3  <user> i could actually kill that girl i'm so ...   \n",
       "4  <user> <user> <user> i find that very hard to ...   \n",
       "\n",
       "                                         clean_tweet  \\\n",
       "0  vinco tresorpack   difficulty  of  object  dis...   \n",
       "1   glad i dot have taks tomorrow   thankful startho   \n",
       "2   vs celtics in the regular season  were fucked...   \n",
       "3  user i could actually kill that girl im so sor...   \n",
       "4  user user user i find that very hard to believ...   \n",
       "\n",
       "                                     tokenized_tweet  \\\n",
       "0  vinco tresorpack difficulty of object disassem...   \n",
       "1     glad i dot have taks tomorrow thankful startho   \n",
       "2  vs celtics in the regular season were fucked i...   \n",
       "3   user i could actually kill that girl im so sorry   \n",
       "4  user user user i find that very hard to believ...   \n",
       "\n",
       "                        tokenized_tweet_no_stopwords  \\\n",
       "0  vinco tresorpack difficulty object disassemble...   \n",
       "1            glad dot taks tomorrow thankful startho   \n",
       "2     vs celtics regular season fucked play playoffs   \n",
       "3             user could actually kill girl im sorry   \n",
       "4         user user user find hard believe im afraid   \n",
       "\n",
       "                    clean_tweet_tokenized_lemmatized  \n",
       "0  vinco tresorpack difficulty object disassemble...  \n",
       "1            glad dot taks tomorrow thankful startho  \n",
       "2          v celtic regular season fuck play playoff  \n",
       "3             user could actually kill girl im sorry  \n",
       "4         user user user find hard believe im afraid  "
      ]
     },
     "execution_count": 11,
     "metadata": {},
     "output_type": "execute_result"
    }
   ],
   "source": [
    "tweets_df.head()"
   ]
  },
  {
   "cell_type": "code",
   "execution_count": 12,
   "metadata": {},
   "outputs": [],
   "source": [
    "#rename clean_tweet_tokenized_lemmatized to text\n",
    "tweets_df['text'] = tweets_df['clean_tweet_tokenized_lemmatized']\n",
    "tweets_df.drop('clean_tweet_tokenized_lemmatized',axis=1, inplace=True)"
   ]
  },
  {
   "cell_type": "code",
   "execution_count": 13,
   "metadata": {},
   "outputs": [],
   "source": [
    "#separate the data based on label\n",
    "positive_tweets = tweets_df[tweets_df['label'] == 1]\n",
    "negative_tweets = tweets_df[tweets_df['label'] == 0]"
   ]
  },
  {
   "cell_type": "code",
   "execution_count": 14,
   "metadata": {},
   "outputs": [],
   "source": [
    "#save the data  \n",
    "positive_tweets.to_csv('preprocessed/train_pos_full.csv', index=False)\n",
    "negative_tweets.to_csv('preprocessed/train_neg_full.csv', index=False)\n",
    "tweets_df.to_csv('preprocessed/train_full.csv', index=False)\n"
   ]
  },
  {
   "cell_type": "code",
   "execution_count": 15,
   "metadata": {},
   "outputs": [
    {
     "name": "stdout",
     "output_type": "stream",
     "text": [
      "<class 'pandas.core.frame.DataFrame'>\n",
      "RangeIndex: 2500000 entries, 0 to 2499999\n",
      "Data columns (total 7 columns):\n",
      " #   Column                        Dtype \n",
      "---  ------                        ----- \n",
      " 0   tweet                         object\n",
      " 1   label                         int64 \n",
      " 2   partial_clean_tweet           object\n",
      " 3   clean_tweet                   object\n",
      " 4   tokenized_tweet               object\n",
      " 5   tokenized_tweet_no_stopwords  object\n",
      " 6   text                          object\n",
      "dtypes: int64(1), object(6)\n",
      "memory usage: 133.5+ MB\n"
     ]
    }
   ],
   "source": [
    "#check for nan\n",
    "tweets_df.info()"
   ]
  },
  {
   "cell_type": "code",
   "execution_count": null,
   "metadata": {},
   "outputs": [],
   "source": []
  }
 ],
 "metadata": {
  "kernelspec": {
   "display_name": "Python 3",
   "language": "python",
   "name": "python3"
  },
  "language_info": {
   "codemirror_mode": {
    "name": "ipython",
    "version": 3
   },
   "file_extension": ".py",
   "mimetype": "text/x-python",
   "name": "python",
   "nbconvert_exporter": "python",
   "pygments_lexer": "ipython3",
   "version": "3.8.16"
  },
  "orig_nbformat": 4
 },
 "nbformat": 4,
 "nbformat_minor": 2
}
